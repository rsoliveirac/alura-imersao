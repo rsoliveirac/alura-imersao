{
 "cells": [
  {
   "cell_type": "markdown",
   "id": "artistic-committee",
   "metadata": {},
   "source": [
    "# Import biblioteca\n",
    "\n",
    "\n"
   ]
  },
  {
   "cell_type": "code",
   "execution_count": 6,
   "id": "olive-capture",
   "metadata": {
    "ExecuteTime": {
     "end_time": "2021-05-10T13:40:36.038073Z",
     "start_time": "2021-05-10T13:40:35.497527Z"
    }
   },
   "outputs": [
    {
     "name": "stderr",
     "output_type": "stream",
     "text": [
      "/home/user/.pyenv/versions/3.8.0/lib/python3.8/site-packages/pandas/compat/__init__.py:97: UserWarning: Could not import the lzma module. Your installed Python is incomplete. Attempting to use lzma compression will result in a RuntimeError.\n",
      "  warnings.warn(msg)\n"
     ]
    }
   ],
   "source": [
    "import math\n",
    "import numpy  as np\n",
    "import pandas as pd\n",
    "from IPython.core.display  import HTML\n",
    "import seaborn as sns\n",
    "\n",
    "\n",
    "import pandas as pd\n",
    "import matplotlib.pyplot as plt\n",
    "\n"
   ]
  },
  {
   "cell_type": "markdown",
   "id": "approved-madonna",
   "metadata": {},
   "source": [
    "# Função Extra "
   ]
  },
  {
   "cell_type": "code",
   "execution_count": 1,
   "id": "backed-audience",
   "metadata": {
    "ExecuteTime": {
     "end_time": "2021-05-10T13:37:53.753828Z",
     "start_time": "2021-05-10T13:37:53.502672Z"
    },
    "scrolled": true
   },
   "outputs": [],
   "source": [
    "import matplotlib.pyplot as plt\n",
    "\n",
    "plt.rcParams[\"figure.figsize\"] = (20,10)"
   ]
  },
  {
   "cell_type": "code",
   "execution_count": 7,
   "id": "angry-economy",
   "metadata": {
    "ExecuteTime": {
     "end_time": "2021-05-10T13:40:37.684891Z",
     "start_time": "2021-05-10T13:40:37.672216Z"
    }
   },
   "outputs": [
    {
     "data": {
      "text/html": [
       "<div>\n",
       "<style scoped>\n",
       "    .dataframe tbody tr th:only-of-type {\n",
       "        vertical-align: middle;\n",
       "    }\n",
       "\n",
       "    .dataframe tbody tr th {\n",
       "        vertical-align: top;\n",
       "    }\n",
       "\n",
       "    .dataframe thead th {\n",
       "        text-align: right;\n",
       "    }\n",
       "</style>\n",
       "<table border=\"1\" class=\"dataframe\">\n",
       "  <thead>\n",
       "    <tr style=\"text-align: right;\">\n",
       "      <th></th>\n",
       "      <th>a</th>\n",
       "      <th>b</th>\n",
       "    </tr>\n",
       "  </thead>\n",
       "  <tbody>\n",
       "    <tr>\n",
       "      <th>0</th>\n",
       "      <td>1</td>\n",
       "      <td>4</td>\n",
       "    </tr>\n",
       "    <tr>\n",
       "      <th>1</th>\n",
       "      <td>2</td>\n",
       "      <td>3</td>\n",
       "    </tr>\n",
       "    <tr>\n",
       "      <th>2</th>\n",
       "      <td>3</td>\n",
       "      <td>2</td>\n",
       "    </tr>\n",
       "    <tr>\n",
       "      <th>3</th>\n",
       "      <td>4</td>\n",
       "      <td>4</td>\n",
       "    </tr>\n",
       "    <tr>\n",
       "      <th>4</th>\n",
       "      <td>5</td>\n",
       "      <td>5</td>\n",
       "    </tr>\n",
       "  </tbody>\n",
       "</table>\n",
       "</div>"
      ],
      "text/plain": [
       "   a  b\n",
       "0  1  4\n",
       "1  2  3\n",
       "2  3  2\n",
       "3  4  4\n",
       "4  5  5"
      ]
     },
     "execution_count": 7,
     "metadata": {},
     "output_type": "execute_result"
    }
   ],
   "source": [
    "a = {'a': [1,2,3,4,5],\n",
    "      'b': [4,3,2,4,5]}\n",
    "\n",
    "pd.DataFrame(a)"
   ]
  },
  {
   "cell_type": "code",
   "execution_count": 8,
   "id": "protecting-sewing",
   "metadata": {
    "ExecuteTime": {
     "end_time": "2021-05-10T13:41:08.114258Z",
     "start_time": "2021-05-10T13:41:07.941503Z"
    }
   },
   "outputs": [
    {
     "data": {
      "text/plain": [
       "<BarContainer object of 5 artists>"
      ]
     },
     "execution_count": 8,
     "metadata": {},
     "output_type": "execute_result"
    },
    {
     "data": {
      "image/png": "[encoded data removed]",
      "text/plain": [
       "<Figure size 1440x720 with 1 Axes>"
      ]
     },
     "metadata": {
      "needs_background": "light"
     },
     "output_type": "display_data"
    }
   ],
   "source": [
    "plt.bar(a['a'], a['b'])"
   ]
  },
  {
   "cell_type": "markdown",
   "id": "satisfied-simulation",
   "metadata": {},
   "source": [
    "# Import Dataset"
   ]
  },
  {
   "cell_type": "code",
   "execution_count": 11,
   "id": "stainless-pepper",
   "metadata": {
    "ExecuteTime": {
     "end_time": "2021-05-10T13:42:36.270888Z",
     "start_time": "2021-05-10T13:42:05.512184Z"
    }
   },
   "outputs": [],
   "source": [
    "url = 'https://github.com/alura-cursos/imersao-dados-desafio-final/blob/main/Dados/dados_resultados.csv?raw=true'\n",
    "\n",
    "df = pd.read_csv(url)\n",
    "\n",
    "\n",
    "# dados\n",
    "\n",
    "url = 'https://github.com/alura-cursos/imersaodados3/blob/main/dados/dados_experimentos.zip?raw=true'\n",
    "\n",
    "df2 = pd.read_csv(url, compression ='zip')\n",
    "\n"
   ]
  },
  {
   "cell_type": "markdown",
   "id": "leading-leonard",
   "metadata": {},
   "source": [
    "# Conhecendo dados"
   ]
  },
  {
   "cell_type": "code",
   "execution_count": 12,
   "id": "floating-nylon",
   "metadata": {
    "ExecuteTime": {
     "end_time": "2021-05-10T13:43:11.520156Z",
     "start_time": "2021-05-10T13:43:11.502632Z"
    }
   },
   "outputs": [
    {
     "name": "stdout",
     "output_type": "stream",
     "text": [
      "23814 linhas\n",
      "207 colunas\n"
     ]
    }
   ],
   "source": [
    "print(df.shape[0], 'linhas')\n",
    "print(df.shape[1], 'colunas')"
   ]
  },
  {
   "cell_type": "code",
   "execution_count": 13,
   "id": "strategic-fight",
   "metadata": {
    "ExecuteTime": {
     "end_time": "2021-05-10T13:43:12.320754Z",
     "start_time": "2021-05-10T13:43:12.292537Z"
    }
   },
   "outputs": [
    {
     "data": {
      "text/plain": [
       "id                                       object\n",
       "5-alpha_reductase_inhibitor               int64\n",
       "11-beta-hsd1_inhibitor                    int64\n",
       "acat_inhibitor                            int64\n",
       "acetylcholine_receptor_agonist            int64\n",
       "                                          ...  \n",
       "ubiquitin_specific_protease_inhibitor     int64\n",
       "vegfr_inhibitor                           int64\n",
       "vitamin_b                                 int64\n",
       "vitamin_d_receptor_agonist                int64\n",
       "wnt_inhibitor                             int64\n",
       "Length: 207, dtype: object"
      ]
     },
     "execution_count": 13,
     "metadata": {},
     "output_type": "execute_result"
    }
   ],
   "source": [
    "df.dtypes"
   ]
  },
  {
   "cell_type": "code",
   "execution_count": 14,
   "id": "spread-landscape",
   "metadata": {
    "ExecuteTime": {
     "end_time": "2021-05-10T13:43:12.900340Z",
     "start_time": "2021-05-10T13:43:12.876432Z"
    }
   },
   "outputs": [
    {
     "data": {
      "text/plain": [
       "nfkb_inhibitor                                832\n",
       "proteasome_inhibitor                          726\n",
       "cyclooxygenase_inhibitor                      435\n",
       "dopamine_receptor_antagonist                  424\n",
       "serotonin_receptor_antagonist                 404\n",
       "                                             ... \n",
       "elastase_inhibitor                              6\n",
       "steroid                                         6\n",
       "atm_kinase_inhibitor                            6\n",
       "erbb2_inhibitor                                 1\n",
       "atp-sensitive_potassium_channel_antagonist      1\n",
       "Length: 206, dtype: int64"
      ]
     },
     "execution_count": 14,
     "metadata": {},
     "output_type": "execute_result"
    }
   ],
   "source": [
    "#As duas formas são iguais, depende da facilidade\n",
    "\n",
    "#contagem = df.select_dtypes('int64').sum().sort_values(ascending = False)\n",
    "contagem = df.drop('id', axis = 1).sum().sort_values(ascending = False)\n",
    "contagem"
   ]
  },
  {
   "cell_type": "code",
   "execution_count": 15,
   "id": "durable-bandwidth",
   "metadata": {
    "ExecuteTime": {
     "end_time": "2021-05-10T13:43:13.503966Z",
     "start_time": "2021-05-10T13:43:13.482286Z"
    }
   },
   "outputs": [],
   "source": [
    "#Contagem de linhas que foram ativadas\n",
    "df['n_moa'] = df.drop('id', axis = 1).sum( axis = 1)"
   ]
  },
  {
   "cell_type": "code",
   "execution_count": 16,
   "id": "expressed-debate",
   "metadata": {
    "ExecuteTime": {
     "end_time": "2021-05-10T13:43:14.161315Z",
     "start_time": "2021-05-10T13:43:14.135732Z"
    }
   },
   "outputs": [],
   "source": [
    "df['n_moa_ative'] = df['n_moa'] != 0"
   ]
  },
  {
   "cell_type": "markdown",
   "id": "increased-third",
   "metadata": {
    "ExecuteTime": {
     "end_time": "2021-05-10T12:46:26.210928Z",
     "start_time": "2021-05-10T12:46:26.205188Z"
    }
   },
   "source": [
    "# Merge "
   ]
  },
  {
   "cell_type": "code",
   "execution_count": 17,
   "id": "local-destiny",
   "metadata": {
    "ExecuteTime": {
     "end_time": "2021-05-10T13:43:17.861582Z",
     "start_time": "2021-05-10T13:43:17.593608Z"
    }
   },
   "outputs": [
    {
     "data": {
      "text/html": [
       "<div>\n",
       "<style scoped>\n",
       "    .dataframe tbody tr th:only-of-type {\n",
       "        vertical-align: middle;\n",
       "    }\n",
       "\n",
       "    .dataframe tbody tr th {\n",
       "        vertical-align: top;\n",
       "    }\n",
       "\n",
       "    .dataframe thead th {\n",
       "        text-align: right;\n",
       "    }\n",
       "</style>\n",
       "<table border=\"1\" class=\"dataframe\">\n",
       "  <thead>\n",
       "    <tr style=\"text-align: right;\">\n",
       "      <th></th>\n",
       "      <th>id</th>\n",
       "      <th>n_moa</th>\n",
       "      <th>n_moa_ative</th>\n",
       "      <th>tratamento</th>\n",
       "      <th>tempo</th>\n",
       "      <th>dose</th>\n",
       "      <th>droga</th>\n",
       "      <th>g-0</th>\n",
       "      <th>g-1</th>\n",
       "      <th>g-2</th>\n",
       "      <th>...</th>\n",
       "      <th>c-90</th>\n",
       "      <th>c-91</th>\n",
       "      <th>c-92</th>\n",
       "      <th>c-93</th>\n",
       "      <th>c-94</th>\n",
       "      <th>c-95</th>\n",
       "      <th>c-96</th>\n",
       "      <th>c-97</th>\n",
       "      <th>c-98</th>\n",
       "      <th>c-99</th>\n",
       "    </tr>\n",
       "  </thead>\n",
       "  <tbody>\n",
       "    <tr>\n",
       "      <th>0</th>\n",
       "      <td>id_000644bb2</td>\n",
       "      <td>1</td>\n",
       "      <td>True</td>\n",
       "      <td>com_droga</td>\n",
       "      <td>24</td>\n",
       "      <td>D1</td>\n",
       "      <td>b68db1d53</td>\n",
       "      <td>1.0620</td>\n",
       "      <td>0.5577</td>\n",
       "      <td>-0.2479</td>\n",
       "      <td>...</td>\n",
       "      <td>0.2862</td>\n",
       "      <td>0.2584</td>\n",
       "      <td>0.8076</td>\n",
       "      <td>0.5523</td>\n",
       "      <td>-0.1912</td>\n",
       "      <td>0.6584</td>\n",
       "      <td>-0.3981</td>\n",
       "      <td>0.2139</td>\n",
       "      <td>0.3801</td>\n",
       "      <td>0.4176</td>\n",
       "    </tr>\n",
       "    <tr>\n",
       "      <th>1</th>\n",
       "      <td>id_000779bfc</td>\n",
       "      <td>0</td>\n",
       "      <td>False</td>\n",
       "      <td>com_droga</td>\n",
       "      <td>72</td>\n",
       "      <td>D1</td>\n",
       "      <td>df89a8e5a</td>\n",
       "      <td>0.0743</td>\n",
       "      <td>0.4087</td>\n",
       "      <td>0.2991</td>\n",
       "      <td>...</td>\n",
       "      <td>-0.4265</td>\n",
       "      <td>0.7543</td>\n",
       "      <td>0.4708</td>\n",
       "      <td>0.0230</td>\n",
       "      <td>0.2957</td>\n",
       "      <td>0.4899</td>\n",
       "      <td>0.1522</td>\n",
       "      <td>0.1241</td>\n",
       "      <td>0.6077</td>\n",
       "      <td>0.7371</td>\n",
       "    </tr>\n",
       "  </tbody>\n",
       "</table>\n",
       "<p>2 rows × 879 columns</p>\n",
       "</div>"
      ],
      "text/plain": [
       "             id  n_moa  n_moa_ative tratamento  tempo dose      droga     g-0  \\\n",
       "0  id_000644bb2      1         True  com_droga     24   D1  b68db1d53  1.0620   \n",
       "1  id_000779bfc      0        False  com_droga     72   D1  df89a8e5a  0.0743   \n",
       "\n",
       "      g-1     g-2  ...    c-90    c-91    c-92    c-93    c-94    c-95  \\\n",
       "0  0.5577 -0.2479  ...  0.2862  0.2584  0.8076  0.5523 -0.1912  0.6584   \n",
       "1  0.4087  0.2991  ... -0.4265  0.7543  0.4708  0.0230  0.2957  0.4899   \n",
       "\n",
       "     c-96    c-97    c-98    c-99  \n",
       "0 -0.3981  0.2139  0.3801  0.4176  \n",
       "1  0.1522  0.1241  0.6077  0.7371  \n",
       "\n",
       "[2 rows x 879 columns]"
      ]
     },
     "execution_count": 17,
     "metadata": {},
     "output_type": "execute_result"
    }
   ],
   "source": [
    "df_merge = pd.merge(df[['id','n_moa', 'n_moa_ative']], df2, on = 'id')\n",
    "df_merge.head(2)"
   ]
  },
  {
   "cell_type": "code",
   "execution_count": 18,
   "id": "stupid-finger",
   "metadata": {
    "ExecuteTime": {
     "end_time": "2021-05-10T13:43:18.699499Z",
     "start_time": "2021-05-10T13:43:18.667964Z"
    }
   },
   "outputs": [
    {
     "data": {
      "text/plain": [
       "False    1866\n",
       "Name: n_moa_ative, dtype: int64"
      ]
     },
     "execution_count": 18,
     "metadata": {},
     "output_type": "execute_result"
    }
   ],
   "source": [
    "df_merge.loc[df_merge['tratamento'] == 'com_controle']['n_moa_ative'].value_counts()"
   ]
  },
  {
   "cell_type": "code",
   "execution_count": 19,
   "id": "modular-importance",
   "metadata": {
    "ExecuteTime": {
     "end_time": "2021-05-10T13:43:19.439376Z",
     "start_time": "2021-05-10T13:43:19.393421Z"
    }
   },
   "outputs": [],
   "source": [
    "df_merge.drop('id', axis = 1)\n",
    "\n",
    "\n",
    "df_merge['eh_controle'] = df_merge['tratamento'] == 'com_controle'"
   ]
  },
  {
   "cell_type": "code",
   "execution_count": 20,
   "id": "racial-stack",
   "metadata": {
    "ExecuteTime": {
     "end_time": "2021-05-10T13:43:20.220619Z",
     "start_time": "2021-05-10T13:43:20.157760Z"
    }
   },
   "outputs": [
    {
     "data": {
      "text/html": [
       "<div>\n",
       "<style scoped>\n",
       "    .dataframe tbody tr th:only-of-type {\n",
       "        vertical-align: middle;\n",
       "    }\n",
       "\n",
       "    .dataframe tbody tr th {\n",
       "        vertical-align: top;\n",
       "    }\n",
       "\n",
       "    .dataframe thead th {\n",
       "        text-align: right;\n",
       "    }\n",
       "</style>\n",
       "<table border=\"1\" class=\"dataframe\">\n",
       "  <thead>\n",
       "    <tr style=\"text-align: right;\">\n",
       "      <th></th>\n",
       "      <th>id</th>\n",
       "      <th>n_moa</th>\n",
       "      <th>n_moa_ative</th>\n",
       "      <th>tratamento</th>\n",
       "      <th>tempo</th>\n",
       "      <th>dose</th>\n",
       "      <th>droga</th>\n",
       "      <th>g-0</th>\n",
       "      <th>g-1</th>\n",
       "      <th>g-2</th>\n",
       "      <th>...</th>\n",
       "      <th>c-91</th>\n",
       "      <th>c-92</th>\n",
       "      <th>c-93</th>\n",
       "      <th>c-94</th>\n",
       "      <th>c-95</th>\n",
       "      <th>c-96</th>\n",
       "      <th>c-97</th>\n",
       "      <th>c-98</th>\n",
       "      <th>c-99</th>\n",
       "      <th>eh_controle</th>\n",
       "    </tr>\n",
       "  </thead>\n",
       "  <tbody>\n",
       "    <tr>\n",
       "      <th>0</th>\n",
       "      <td>id_000644bb2</td>\n",
       "      <td>1</td>\n",
       "      <td>True</td>\n",
       "      <td>com_droga</td>\n",
       "      <td>24</td>\n",
       "      <td>D1</td>\n",
       "      <td>b68db1d53</td>\n",
       "      <td>1.0620</td>\n",
       "      <td>0.5577</td>\n",
       "      <td>-0.2479</td>\n",
       "      <td>...</td>\n",
       "      <td>0.2584</td>\n",
       "      <td>0.8076</td>\n",
       "      <td>0.5523</td>\n",
       "      <td>-0.1912</td>\n",
       "      <td>0.6584</td>\n",
       "      <td>-0.3981</td>\n",
       "      <td>0.2139</td>\n",
       "      <td>0.3801</td>\n",
       "      <td>0.4176</td>\n",
       "      <td>False</td>\n",
       "    </tr>\n",
       "    <tr>\n",
       "      <th>1</th>\n",
       "      <td>id_000779bfc</td>\n",
       "      <td>0</td>\n",
       "      <td>False</td>\n",
       "      <td>com_droga</td>\n",
       "      <td>72</td>\n",
       "      <td>D1</td>\n",
       "      <td>df89a8e5a</td>\n",
       "      <td>0.0743</td>\n",
       "      <td>0.4087</td>\n",
       "      <td>0.2991</td>\n",
       "      <td>...</td>\n",
       "      <td>0.7543</td>\n",
       "      <td>0.4708</td>\n",
       "      <td>0.0230</td>\n",
       "      <td>0.2957</td>\n",
       "      <td>0.4899</td>\n",
       "      <td>0.1522</td>\n",
       "      <td>0.1241</td>\n",
       "      <td>0.6077</td>\n",
       "      <td>0.7371</td>\n",
       "      <td>False</td>\n",
       "    </tr>\n",
       "    <tr>\n",
       "      <th>2</th>\n",
       "      <td>id_000a6266a</td>\n",
       "      <td>3</td>\n",
       "      <td>True</td>\n",
       "      <td>com_droga</td>\n",
       "      <td>48</td>\n",
       "      <td>D1</td>\n",
       "      <td>18bb41b2c</td>\n",
       "      <td>0.6280</td>\n",
       "      <td>0.5817</td>\n",
       "      <td>1.5540</td>\n",
       "      <td>...</td>\n",
       "      <td>-0.6297</td>\n",
       "      <td>0.6103</td>\n",
       "      <td>0.0223</td>\n",
       "      <td>-1.3240</td>\n",
       "      <td>-0.3174</td>\n",
       "      <td>-0.6417</td>\n",
       "      <td>-0.2187</td>\n",
       "      <td>-1.4080</td>\n",
       "      <td>0.6931</td>\n",
       "      <td>False</td>\n",
       "    </tr>\n",
       "    <tr>\n",
       "      <th>3</th>\n",
       "      <td>id_0015fd391</td>\n",
       "      <td>0</td>\n",
       "      <td>False</td>\n",
       "      <td>com_droga</td>\n",
       "      <td>48</td>\n",
       "      <td>D1</td>\n",
       "      <td>8c7f86626</td>\n",
       "      <td>-0.5138</td>\n",
       "      <td>-0.2491</td>\n",
       "      <td>-0.2656</td>\n",
       "      <td>...</td>\n",
       "      <td>-0.6441</td>\n",
       "      <td>-5.6300</td>\n",
       "      <td>-1.3780</td>\n",
       "      <td>-0.8632</td>\n",
       "      <td>-1.2880</td>\n",
       "      <td>-1.6210</td>\n",
       "      <td>-0.8784</td>\n",
       "      <td>-0.3876</td>\n",
       "      <td>-0.8154</td>\n",
       "      <td>False</td>\n",
       "    </tr>\n",
       "    <tr>\n",
       "      <th>4</th>\n",
       "      <td>id_001626bd3</td>\n",
       "      <td>1</td>\n",
       "      <td>True</td>\n",
       "      <td>com_droga</td>\n",
       "      <td>72</td>\n",
       "      <td>D2</td>\n",
       "      <td>7cbed3131</td>\n",
       "      <td>-0.3254</td>\n",
       "      <td>-0.4009</td>\n",
       "      <td>0.9700</td>\n",
       "      <td>...</td>\n",
       "      <td>0.0048</td>\n",
       "      <td>0.6670</td>\n",
       "      <td>1.0690</td>\n",
       "      <td>0.5523</td>\n",
       "      <td>-0.3031</td>\n",
       "      <td>0.1094</td>\n",
       "      <td>0.2885</td>\n",
       "      <td>-0.3786</td>\n",
       "      <td>0.7125</td>\n",
       "      <td>False</td>\n",
       "    </tr>\n",
       "    <tr>\n",
       "      <th>...</th>\n",
       "      <td>...</td>\n",
       "      <td>...</td>\n",
       "      <td>...</td>\n",
       "      <td>...</td>\n",
       "      <td>...</td>\n",
       "      <td>...</td>\n",
       "      <td>...</td>\n",
       "      <td>...</td>\n",
       "      <td>...</td>\n",
       "      <td>...</td>\n",
       "      <td>...</td>\n",
       "      <td>...</td>\n",
       "      <td>...</td>\n",
       "      <td>...</td>\n",
       "      <td>...</td>\n",
       "      <td>...</td>\n",
       "      <td>...</td>\n",
       "      <td>...</td>\n",
       "      <td>...</td>\n",
       "      <td>...</td>\n",
       "      <td>...</td>\n",
       "    </tr>\n",
       "    <tr>\n",
       "      <th>23809</th>\n",
       "      <td>id_fffb1ceed</td>\n",
       "      <td>1</td>\n",
       "      <td>True</td>\n",
       "      <td>com_droga</td>\n",
       "      <td>24</td>\n",
       "      <td>D2</td>\n",
       "      <td>df1d0a5a1</td>\n",
       "      <td>0.1394</td>\n",
       "      <td>-0.0636</td>\n",
       "      <td>-0.1112</td>\n",
       "      <td>...</td>\n",
       "      <td>0.0262</td>\n",
       "      <td>-0.8121</td>\n",
       "      <td>0.3434</td>\n",
       "      <td>0.5372</td>\n",
       "      <td>-0.3246</td>\n",
       "      <td>0.0631</td>\n",
       "      <td>0.9171</td>\n",
       "      <td>0.5258</td>\n",
       "      <td>0.4680</td>\n",
       "      <td>False</td>\n",
       "    </tr>\n",
       "    <tr>\n",
       "      <th>23810</th>\n",
       "      <td>id_fffb70c0c</td>\n",
       "      <td>1</td>\n",
       "      <td>True</td>\n",
       "      <td>com_droga</td>\n",
       "      <td>24</td>\n",
       "      <td>D2</td>\n",
       "      <td>ecf3b6b74</td>\n",
       "      <td>-1.3260</td>\n",
       "      <td>0.3478</td>\n",
       "      <td>-0.3743</td>\n",
       "      <td>...</td>\n",
       "      <td>0.4426</td>\n",
       "      <td>0.0423</td>\n",
       "      <td>-0.3195</td>\n",
       "      <td>-0.8086</td>\n",
       "      <td>-0.9798</td>\n",
       "      <td>-0.2084</td>\n",
       "      <td>-0.1224</td>\n",
       "      <td>-0.2715</td>\n",
       "      <td>0.3689</td>\n",
       "      <td>False</td>\n",
       "    </tr>\n",
       "    <tr>\n",
       "      <th>23811</th>\n",
       "      <td>id_fffc1c3f4</td>\n",
       "      <td>0</td>\n",
       "      <td>False</td>\n",
       "      <td>com_controle</td>\n",
       "      <td>48</td>\n",
       "      <td>D2</td>\n",
       "      <td>cacb2b860</td>\n",
       "      <td>0.3942</td>\n",
       "      <td>0.3756</td>\n",
       "      <td>0.3109</td>\n",
       "      <td>...</td>\n",
       "      <td>0.3755</td>\n",
       "      <td>0.7343</td>\n",
       "      <td>0.2807</td>\n",
       "      <td>0.4116</td>\n",
       "      <td>0.6422</td>\n",
       "      <td>0.2256</td>\n",
       "      <td>0.7592</td>\n",
       "      <td>0.6656</td>\n",
       "      <td>0.3808</td>\n",
       "      <td>True</td>\n",
       "    </tr>\n",
       "    <tr>\n",
       "      <th>23812</th>\n",
       "      <td>id_fffcb9e7c</td>\n",
       "      <td>1</td>\n",
       "      <td>True</td>\n",
       "      <td>com_droga</td>\n",
       "      <td>24</td>\n",
       "      <td>D1</td>\n",
       "      <td>8b87a7a83</td>\n",
       "      <td>0.6660</td>\n",
       "      <td>0.2324</td>\n",
       "      <td>0.4392</td>\n",
       "      <td>...</td>\n",
       "      <td>0.4258</td>\n",
       "      <td>-0.2012</td>\n",
       "      <td>0.1506</td>\n",
       "      <td>1.5230</td>\n",
       "      <td>0.7101</td>\n",
       "      <td>0.1732</td>\n",
       "      <td>0.7015</td>\n",
       "      <td>-0.6290</td>\n",
       "      <td>0.0740</td>\n",
       "      <td>False</td>\n",
       "    </tr>\n",
       "    <tr>\n",
       "      <th>23813</th>\n",
       "      <td>id_ffffdd77b</td>\n",
       "      <td>0</td>\n",
       "      <td>False</td>\n",
       "      <td>com_droga</td>\n",
       "      <td>72</td>\n",
       "      <td>D1</td>\n",
       "      <td>972f41291</td>\n",
       "      <td>-0.8598</td>\n",
       "      <td>1.0240</td>\n",
       "      <td>-0.1361</td>\n",
       "      <td>...</td>\n",
       "      <td>-1.7450</td>\n",
       "      <td>-6.6300</td>\n",
       "      <td>-4.0950</td>\n",
       "      <td>-7.3860</td>\n",
       "      <td>-1.4160</td>\n",
       "      <td>-3.5770</td>\n",
       "      <td>-0.4775</td>\n",
       "      <td>-2.1500</td>\n",
       "      <td>-4.2520</td>\n",
       "      <td>False</td>\n",
       "    </tr>\n",
       "  </tbody>\n",
       "</table>\n",
       "<p>23814 rows × 880 columns</p>\n",
       "</div>"
      ],
      "text/plain": [
       "                 id  n_moa  n_moa_ative    tratamento  tempo dose      droga  \\\n",
       "0      id_000644bb2      1         True     com_droga     24   D1  b68db1d53   \n",
       "1      id_000779bfc      0        False     com_droga     72   D1  df89a8e5a   \n",
       "2      id_000a6266a      3         True     com_droga     48   D1  18bb41b2c   \n",
       "3      id_0015fd391      0        False     com_droga     48   D1  8c7f86626   \n",
       "4      id_001626bd3      1         True     com_droga     72   D2  7cbed3131   \n",
       "...             ...    ...          ...           ...    ...  ...        ...   \n",
       "23809  id_fffb1ceed      1         True     com_droga     24   D2  df1d0a5a1   \n",
       "23810  id_fffb70c0c      1         True     com_droga     24   D2  ecf3b6b74   \n",
       "23811  id_fffc1c3f4      0        False  com_controle     48   D2  cacb2b860   \n",
       "23812  id_fffcb9e7c      1         True     com_droga     24   D1  8b87a7a83   \n",
       "23813  id_ffffdd77b      0        False     com_droga     72   D1  972f41291   \n",
       "\n",
       "          g-0     g-1     g-2  ...    c-91    c-92    c-93    c-94    c-95  \\\n",
       "0      1.0620  0.5577 -0.2479  ...  0.2584  0.8076  0.5523 -0.1912  0.6584   \n",
       "1      0.0743  0.4087  0.2991  ...  0.7543  0.4708  0.0230  0.2957  0.4899   \n",
       "2      0.6280  0.5817  1.5540  ... -0.6297  0.6103  0.0223 -1.3240 -0.3174   \n",
       "3     -0.5138 -0.2491 -0.2656  ... -0.6441 -5.6300 -1.3780 -0.8632 -1.2880   \n",
       "4     -0.3254 -0.4009  0.9700  ...  0.0048  0.6670  1.0690  0.5523 -0.3031   \n",
       "...       ...     ...     ...  ...     ...     ...     ...     ...     ...   \n",
       "23809  0.1394 -0.0636 -0.1112  ...  0.0262 -0.8121  0.3434  0.5372 -0.3246   \n",
       "23810 -1.3260  0.3478 -0.3743  ...  0.4426  0.0423 -0.3195 -0.8086 -0.9798   \n",
       "23811  0.3942  0.3756  0.3109  ...  0.3755  0.7343  0.2807  0.4116  0.6422   \n",
       "23812  0.6660  0.2324  0.4392  ...  0.4258 -0.2012  0.1506  1.5230  0.7101   \n",
       "23813 -0.8598  1.0240 -0.1361  ... -1.7450 -6.6300 -4.0950 -7.3860 -1.4160   \n",
       "\n",
       "         c-96    c-97    c-98    c-99  eh_controle  \n",
       "0     -0.3981  0.2139  0.3801  0.4176        False  \n",
       "1      0.1522  0.1241  0.6077  0.7371        False  \n",
       "2     -0.6417 -0.2187 -1.4080  0.6931        False  \n",
       "3     -1.6210 -0.8784 -0.3876 -0.8154        False  \n",
       "4      0.1094  0.2885 -0.3786  0.7125        False  \n",
       "...       ...     ...     ...     ...          ...  \n",
       "23809  0.0631  0.9171  0.5258  0.4680        False  \n",
       "23810 -0.2084 -0.1224 -0.2715  0.3689        False  \n",
       "23811  0.2256  0.7592  0.6656  0.3808         True  \n",
       "23812  0.1732  0.7015 -0.6290  0.0740        False  \n",
       "23813 -3.5770 -0.4775 -2.1500 -4.2520        False  \n",
       "\n",
       "[23814 rows x 880 columns]"
      ]
     },
     "execution_count": 20,
     "metadata": {},
     "output_type": "execute_result"
    }
   ],
   "source": [
    "df_merge"
   ]
  },
  {
   "cell_type": "code",
   "execution_count": 21,
   "id": "stretch-hours",
   "metadata": {
    "ExecuteTime": {
     "end_time": "2021-05-10T13:43:21.761757Z",
     "start_time": "2021-05-10T13:43:21.725882Z"
    }
   },
   "outputs": [],
   "source": [
    "principais_compostos = df_merge['droga'].value_counts().index[:5]\n"
   ]
  },
  {
   "cell_type": "code",
   "execution_count": 22,
   "id": "marked-injection",
   "metadata": {
    "ExecuteTime": {
     "end_time": "2021-05-10T13:43:23.243607Z",
     "start_time": "2021-05-10T13:43:22.864170Z"
    }
   },
   "outputs": [
    {
     "data": {
      "text/plain": [
       "<AxesSubplot:xlabel='droga', ylabel='g-0'>"
      ]
     },
     "execution_count": 22,
     "metadata": {},
     "output_type": "execute_result"
    },
    {
     "data": {
      "image/png": "[encoded data removed]",
      "text/plain": [
       "<Figure size 1440x720 with 1 Axes>"
      ]
     },
     "metadata": {
      "needs_background": "light"
     },
     "output_type": "display_data"
    }
   ],
   "source": [
    "sns.boxplot(x = 'droga', y = 'g-0', data = df_merge.query('droga in @principais_compostos'), hue = 'n_moa_ative' )"
   ]
  }
 ],
 "metadata": {
  "hide_input": false,
  "kernelspec": {
   "display_name": "Python 3",
   "language": "python",
   "name": "python3"
  },
  "language_info": {
   "codemirror_mode": {
    "name": "ipython",
    "version": 3
   },
   "file_extension": ".py",
   "mimetype": "text/x-python",
   "name": "python",
   "nbconvert_exporter": "python",
   "pygments_lexer": "ipython3",
   "version": "3.8.0"
  },
  "varInspector": {
   "cols": {
    "lenName": 16,
    "lenType": 16,
    "lenVar": 40
   },
   "kernels_config": {
    "python": {
     "delete_cmd_postfix": "",
     "delete_cmd_prefix": "del ",
     "library": "var_list.py",
     "varRefreshCmd": "print(var_dic_list())"
    },
    "r": {
     "delete_cmd_postfix": ") ",
     "delete_cmd_prefix": "rm(",
     "library": "var_list.r",
     "varRefreshCmd": "cat(var_dic_list()) "
    }
   },
   "types_to_exclude": [
    "module",
    "function",
    "builtin_function_or_method",
    "instance",
    "_Feature"
   ],
   "window_display": false
  }
 },
 "nbformat": 4,
 "nbformat_minor": 5
}
