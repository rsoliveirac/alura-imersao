{
 "cells": [
  {
   "cell_type": "markdown",
   "id": "artistic-committee",
   "metadata": {},
   "source": [
    "# Import biblioteca\n",
    "\n",
    "\n"
   ]
  },
  {
   "cell_type": "code",
   "execution_count": 1,
   "id": "olive-capture",
   "metadata": {
    "ExecuteTime": {
     "end_time": "2021-05-07T22:44:39.694893Z",
     "start_time": "2021-05-07T22:44:38.146642Z"
    }
   },
   "outputs": [
    {
     "name": "stderr",
     "output_type": "stream",
     "text": [
      "/home/user/.pyenv/versions/3.8.0/lib/python3.8/site-packages/pandas/compat/__init__.py:97: UserWarning: Could not import the lzma module. Your installed Python is incomplete. Attempting to use lzma compression will result in a RuntimeError.\n",
      "  warnings.warn(msg)\n"
     ]
    }
   ],
   "source": [
    "import pandas as pd \n",
    "import pandas_profiling\n",
    "from matplotlib import pyplot as plt\n",
    "import seaborn as sns\n"
   ]
  },
  {
   "cell_type": "markdown",
   "id": "satisfied-simulation",
   "metadata": {},
   "source": [
    "# Import Dataset"
   ]
  },
  {
   "cell_type": "code",
   "execution_count": 2,
   "id": "stainless-pepper",
   "metadata": {
    "ExecuteTime": {
     "end_time": "2021-05-07T22:45:20.027023Z",
     "start_time": "2021-05-07T22:44:40.406326Z"
    }
   },
   "outputs": [
    {
     "data": {
      "text/html": [
       "<div>\n",
       "<style scoped>\n",
       "    .dataframe tbody tr th:only-of-type {\n",
       "        vertical-align: middle;\n",
       "    }\n",
       "\n",
       "    .dataframe tbody tr th {\n",
       "        vertical-align: top;\n",
       "    }\n",
       "\n",
       "    .dataframe thead th {\n",
       "        text-align: right;\n",
       "    }\n",
       "</style>\n",
       "<table border=\"1\" class=\"dataframe\">\n",
       "  <thead>\n",
       "    <tr style=\"text-align: right;\">\n",
       "      <th></th>\n",
       "      <th>id</th>\n",
       "      <th>tratamento</th>\n",
       "      <th>tempo</th>\n",
       "      <th>dose</th>\n",
       "      <th>droga</th>\n",
       "      <th>g-0</th>\n",
       "      <th>g-1</th>\n",
       "      <th>g-2</th>\n",
       "      <th>g-3</th>\n",
       "      <th>g-4</th>\n",
       "      <th>...</th>\n",
       "      <th>c-90</th>\n",
       "      <th>c-91</th>\n",
       "      <th>c-92</th>\n",
       "      <th>c-93</th>\n",
       "      <th>c-94</th>\n",
       "      <th>c-95</th>\n",
       "      <th>c-96</th>\n",
       "      <th>c-97</th>\n",
       "      <th>c-98</th>\n",
       "      <th>c-99</th>\n",
       "    </tr>\n",
       "  </thead>\n",
       "  <tbody>\n",
       "    <tr>\n",
       "      <th>0</th>\n",
       "      <td>id_000644bb2</td>\n",
       "      <td>com_droga</td>\n",
       "      <td>24</td>\n",
       "      <td>D1</td>\n",
       "      <td>b68db1d53</td>\n",
       "      <td>1.0620</td>\n",
       "      <td>0.5577</td>\n",
       "      <td>-0.2479</td>\n",
       "      <td>-0.6208</td>\n",
       "      <td>-0.1944</td>\n",
       "      <td>...</td>\n",
       "      <td>0.2862</td>\n",
       "      <td>0.2584</td>\n",
       "      <td>0.8076</td>\n",
       "      <td>0.5523</td>\n",
       "      <td>-0.1912</td>\n",
       "      <td>0.6584</td>\n",
       "      <td>-0.3981</td>\n",
       "      <td>0.2139</td>\n",
       "      <td>0.3801</td>\n",
       "      <td>0.4176</td>\n",
       "    </tr>\n",
       "    <tr>\n",
       "      <th>1</th>\n",
       "      <td>id_000779bfc</td>\n",
       "      <td>com_droga</td>\n",
       "      <td>72</td>\n",
       "      <td>D1</td>\n",
       "      <td>df89a8e5a</td>\n",
       "      <td>0.0743</td>\n",
       "      <td>0.4087</td>\n",
       "      <td>0.2991</td>\n",
       "      <td>0.0604</td>\n",
       "      <td>1.0190</td>\n",
       "      <td>...</td>\n",
       "      <td>-0.4265</td>\n",
       "      <td>0.7543</td>\n",
       "      <td>0.4708</td>\n",
       "      <td>0.0230</td>\n",
       "      <td>0.2957</td>\n",
       "      <td>0.4899</td>\n",
       "      <td>0.1522</td>\n",
       "      <td>0.1241</td>\n",
       "      <td>0.6077</td>\n",
       "      <td>0.7371</td>\n",
       "    </tr>\n",
       "    <tr>\n",
       "      <th>2</th>\n",
       "      <td>id_000a6266a</td>\n",
       "      <td>com_droga</td>\n",
       "      <td>48</td>\n",
       "      <td>D1</td>\n",
       "      <td>18bb41b2c</td>\n",
       "      <td>0.6280</td>\n",
       "      <td>0.5817</td>\n",
       "      <td>1.5540</td>\n",
       "      <td>-0.0764</td>\n",
       "      <td>-0.0323</td>\n",
       "      <td>...</td>\n",
       "      <td>-0.7250</td>\n",
       "      <td>-0.6297</td>\n",
       "      <td>0.6103</td>\n",
       "      <td>0.0223</td>\n",
       "      <td>-1.3240</td>\n",
       "      <td>-0.3174</td>\n",
       "      <td>-0.6417</td>\n",
       "      <td>-0.2187</td>\n",
       "      <td>-1.4080</td>\n",
       "      <td>0.6931</td>\n",
       "    </tr>\n",
       "    <tr>\n",
       "      <th>3</th>\n",
       "      <td>id_0015fd391</td>\n",
       "      <td>com_droga</td>\n",
       "      <td>48</td>\n",
       "      <td>D1</td>\n",
       "      <td>8c7f86626</td>\n",
       "      <td>-0.5138</td>\n",
       "      <td>-0.2491</td>\n",
       "      <td>-0.2656</td>\n",
       "      <td>0.5288</td>\n",
       "      <td>4.0620</td>\n",
       "      <td>...</td>\n",
       "      <td>-2.0990</td>\n",
       "      <td>-0.6441</td>\n",
       "      <td>-5.6300</td>\n",
       "      <td>-1.3780</td>\n",
       "      <td>-0.8632</td>\n",
       "      <td>-1.2880</td>\n",
       "      <td>-1.6210</td>\n",
       "      <td>-0.8784</td>\n",
       "      <td>-0.3876</td>\n",
       "      <td>-0.8154</td>\n",
       "    </tr>\n",
       "    <tr>\n",
       "      <th>4</th>\n",
       "      <td>id_001626bd3</td>\n",
       "      <td>com_droga</td>\n",
       "      <td>72</td>\n",
       "      <td>D2</td>\n",
       "      <td>7cbed3131</td>\n",
       "      <td>-0.3254</td>\n",
       "      <td>-0.4009</td>\n",
       "      <td>0.9700</td>\n",
       "      <td>0.6919</td>\n",
       "      <td>1.4180</td>\n",
       "      <td>...</td>\n",
       "      <td>0.0042</td>\n",
       "      <td>0.0048</td>\n",
       "      <td>0.6670</td>\n",
       "      <td>1.0690</td>\n",
       "      <td>0.5523</td>\n",
       "      <td>-0.3031</td>\n",
       "      <td>0.1094</td>\n",
       "      <td>0.2885</td>\n",
       "      <td>-0.3786</td>\n",
       "      <td>0.7125</td>\n",
       "    </tr>\n",
       "  </tbody>\n",
       "</table>\n",
       "<p>5 rows × 877 columns</p>\n",
       "</div>"
      ],
      "text/plain": [
       "             id tratamento  tempo dose      droga     g-0     g-1     g-2  \\\n",
       "0  id_000644bb2  com_droga     24   D1  b68db1d53  1.0620  0.5577 -0.2479   \n",
       "1  id_000779bfc  com_droga     72   D1  df89a8e5a  0.0743  0.4087  0.2991   \n",
       "2  id_000a6266a  com_droga     48   D1  18bb41b2c  0.6280  0.5817  1.5540   \n",
       "3  id_0015fd391  com_droga     48   D1  8c7f86626 -0.5138 -0.2491 -0.2656   \n",
       "4  id_001626bd3  com_droga     72   D2  7cbed3131 -0.3254 -0.4009  0.9700   \n",
       "\n",
       "      g-3     g-4  ...    c-90    c-91    c-92    c-93    c-94    c-95  \\\n",
       "0 -0.6208 -0.1944  ...  0.2862  0.2584  0.8076  0.5523 -0.1912  0.6584   \n",
       "1  0.0604  1.0190  ... -0.4265  0.7543  0.4708  0.0230  0.2957  0.4899   \n",
       "2 -0.0764 -0.0323  ... -0.7250 -0.6297  0.6103  0.0223 -1.3240 -0.3174   \n",
       "3  0.5288  4.0620  ... -2.0990 -0.6441 -5.6300 -1.3780 -0.8632 -1.2880   \n",
       "4  0.6919  1.4180  ...  0.0042  0.0048  0.6670  1.0690  0.5523 -0.3031   \n",
       "\n",
       "     c-96    c-97    c-98    c-99  \n",
       "0 -0.3981  0.2139  0.3801  0.4176  \n",
       "1  0.1522  0.1241  0.6077  0.7371  \n",
       "2 -0.6417 -0.2187 -1.4080  0.6931  \n",
       "3 -1.6210 -0.8784 -0.3876 -0.8154  \n",
       "4  0.1094  0.2885 -0.3786  0.7125  \n",
       "\n",
       "[5 rows x 877 columns]"
      ]
     },
     "execution_count": 2,
     "metadata": {},
     "output_type": "execute_result"
    }
   ],
   "source": [
    "url = 'https://github.com/alura-cursos/imersaodados3/blob/main/dados/dados_experimentos.zip?raw=true'\n",
    "\n",
    "df = pd.read_csv(url, compression ='zip')\n",
    "\n",
    "df.head()"
   ]
  },
  {
   "cell_type": "markdown",
   "id": "leading-leonard",
   "metadata": {},
   "source": [
    "# Conhecendo dados"
   ]
  },
  {
   "cell_type": "code",
   "execution_count": 39,
   "id": "august-immigration",
   "metadata": {
    "ExecuteTime": {
     "end_time": "2021-05-07T23:05:39.204729Z",
     "start_time": "2021-05-07T23:05:37.096760Z"
    }
   },
   "outputs": [
    {
     "data": {
      "text/html": [
       "<div>\n",
       "<style scoped>\n",
       "    .dataframe tbody tr th:only-of-type {\n",
       "        vertical-align: middle;\n",
       "    }\n",
       "\n",
       "    .dataframe tbody tr th {\n",
       "        vertical-align: top;\n",
       "    }\n",
       "\n",
       "    .dataframe thead th {\n",
       "        text-align: right;\n",
       "    }\n",
       "</style>\n",
       "<table border=\"1\" class=\"dataframe\">\n",
       "  <thead>\n",
       "    <tr style=\"text-align: right;\">\n",
       "      <th></th>\n",
       "      <th>tempo</th>\n",
       "      <th>g0</th>\n",
       "      <th>g1</th>\n",
       "      <th>g2</th>\n",
       "      <th>g3</th>\n",
       "      <th>g4</th>\n",
       "      <th>g5</th>\n",
       "      <th>g6</th>\n",
       "      <th>g7</th>\n",
       "      <th>g8</th>\n",
       "      <th>...</th>\n",
       "      <th>c90</th>\n",
       "      <th>c91</th>\n",
       "      <th>c92</th>\n",
       "      <th>c93</th>\n",
       "      <th>c94</th>\n",
       "      <th>c95</th>\n",
       "      <th>c96</th>\n",
       "      <th>c97</th>\n",
       "      <th>c98</th>\n",
       "      <th>c99</th>\n",
       "    </tr>\n",
       "  </thead>\n",
       "  <tbody>\n",
       "    <tr>\n",
       "      <th>count</th>\n",
       "      <td>20.000000</td>\n",
       "      <td>20.000000</td>\n",
       "      <td>20.000000</td>\n",
       "      <td>20.000000</td>\n",
       "      <td>20.000000</td>\n",
       "      <td>20.000000</td>\n",
       "      <td>20.000000</td>\n",
       "      <td>20.000000</td>\n",
       "      <td>20.000000</td>\n",
       "      <td>20.000000</td>\n",
       "      <td>...</td>\n",
       "      <td>20.000000</td>\n",
       "      <td>20.000000</td>\n",
       "      <td>20.000000</td>\n",
       "      <td>20.000000</td>\n",
       "      <td>20.000000</td>\n",
       "      <td>20.000000</td>\n",
       "      <td>20.000000</td>\n",
       "      <td>20.000000</td>\n",
       "      <td>20.000000</td>\n",
       "      <td>20.000000</td>\n",
       "    </tr>\n",
       "    <tr>\n",
       "      <th>mean</th>\n",
       "      <td>49.200000</td>\n",
       "      <td>0.452285</td>\n",
       "      <td>0.148765</td>\n",
       "      <td>-0.112625</td>\n",
       "      <td>0.344225</td>\n",
       "      <td>0.517510</td>\n",
       "      <td>-0.329655</td>\n",
       "      <td>0.250250</td>\n",
       "      <td>-0.006615</td>\n",
       "      <td>-0.456145</td>\n",
       "      <td>...</td>\n",
       "      <td>-0.942365</td>\n",
       "      <td>-0.412420</td>\n",
       "      <td>-0.541170</td>\n",
       "      <td>-0.659520</td>\n",
       "      <td>-0.468450</td>\n",
       "      <td>-0.574325</td>\n",
       "      <td>-0.808065</td>\n",
       "      <td>-0.712505</td>\n",
       "      <td>-0.726685</td>\n",
       "      <td>-0.063135</td>\n",
       "    </tr>\n",
       "    <tr>\n",
       "      <th>std</th>\n",
       "      <td>16.471986</td>\n",
       "      <td>2.054990</td>\n",
       "      <td>0.768392</td>\n",
       "      <td>1.247611</td>\n",
       "      <td>1.499328</td>\n",
       "      <td>1.431598</td>\n",
       "      <td>1.332546</td>\n",
       "      <td>1.656984</td>\n",
       "      <td>0.967996</td>\n",
       "      <td>2.159074</td>\n",
       "      <td>...</td>\n",
       "      <td>2.653949</td>\n",
       "      <td>2.334489</td>\n",
       "      <td>2.651850</td>\n",
       "      <td>2.604757</td>\n",
       "      <td>2.383023</td>\n",
       "      <td>2.686668</td>\n",
       "      <td>2.982240</td>\n",
       "      <td>2.413277</td>\n",
       "      <td>2.667381</td>\n",
       "      <td>1.756567</td>\n",
       "    </tr>\n",
       "    <tr>\n",
       "      <th>min</th>\n",
       "      <td>24.000000</td>\n",
       "      <td>-0.688400</td>\n",
       "      <td>-1.518000</td>\n",
       "      <td>-2.043000</td>\n",
       "      <td>-0.871100</td>\n",
       "      <td>-2.167000</td>\n",
       "      <td>-4.036000</td>\n",
       "      <td>-1.959000</td>\n",
       "      <td>-2.149000</td>\n",
       "      <td>-8.486000</td>\n",
       "      <td>...</td>\n",
       "      <td>-9.984000</td>\n",
       "      <td>-9.984000</td>\n",
       "      <td>-9.984000</td>\n",
       "      <td>-9.984000</td>\n",
       "      <td>-9.984000</td>\n",
       "      <td>-9.984000</td>\n",
       "      <td>-9.984000</td>\n",
       "      <td>-9.984000</td>\n",
       "      <td>-9.984000</td>\n",
       "      <td>-6.784000</td>\n",
       "    </tr>\n",
       "    <tr>\n",
       "      <th>25%</th>\n",
       "      <td>48.000000</td>\n",
       "      <td>-0.407150</td>\n",
       "      <td>-0.405750</td>\n",
       "      <td>-0.920875</td>\n",
       "      <td>-0.269600</td>\n",
       "      <td>-0.364300</td>\n",
       "      <td>-0.858600</td>\n",
       "      <td>-0.428575</td>\n",
       "      <td>-0.200675</td>\n",
       "      <td>-0.220125</td>\n",
       "      <td>...</td>\n",
       "      <td>-1.052275</td>\n",
       "      <td>-0.467925</td>\n",
       "      <td>-0.360850</td>\n",
       "      <td>-0.636550</td>\n",
       "      <td>-0.904400</td>\n",
       "      <td>-1.159000</td>\n",
       "      <td>-0.699900</td>\n",
       "      <td>-0.313525</td>\n",
       "      <td>-0.451200</td>\n",
       "      <td>-0.059975</td>\n",
       "    </tr>\n",
       "    <tr>\n",
       "      <th>50%</th>\n",
       "      <td>48.000000</td>\n",
       "      <td>-0.102900</td>\n",
       "      <td>0.223900</td>\n",
       "      <td>-0.261600</td>\n",
       "      <td>-0.107700</td>\n",
       "      <td>0.244750</td>\n",
       "      <td>-0.364900</td>\n",
       "      <td>-0.081850</td>\n",
       "      <td>-0.017100</td>\n",
       "      <td>0.065700</td>\n",
       "      <td>...</td>\n",
       "      <td>-0.090450</td>\n",
       "      <td>-0.095250</td>\n",
       "      <td>0.354850</td>\n",
       "      <td>0.022650</td>\n",
       "      <td>0.120700</td>\n",
       "      <td>0.240900</td>\n",
       "      <td>0.080000</td>\n",
       "      <td>0.004400</td>\n",
       "      <td>0.077000</td>\n",
       "      <td>0.424200</td>\n",
       "    </tr>\n",
       "    <tr>\n",
       "      <th>75%</th>\n",
       "      <td>54.000000</td>\n",
       "      <td>0.309375</td>\n",
       "      <td>0.555300</td>\n",
       "      <td>0.466825</td>\n",
       "      <td>0.302975</td>\n",
       "      <td>1.289000</td>\n",
       "      <td>0.536675</td>\n",
       "      <td>0.488750</td>\n",
       "      <td>0.188275</td>\n",
       "      <td>0.567475</td>\n",
       "      <td>...</td>\n",
       "      <td>0.285750</td>\n",
       "      <td>0.378525</td>\n",
       "      <td>0.681975</td>\n",
       "      <td>0.576375</td>\n",
       "      <td>0.726150</td>\n",
       "      <td>0.734200</td>\n",
       "      <td>0.663675</td>\n",
       "      <td>0.254300</td>\n",
       "      <td>0.471350</td>\n",
       "      <td>0.718650</td>\n",
       "    </tr>\n",
       "    <tr>\n",
       "      <th>max</th>\n",
       "      <td>72.000000</td>\n",
       "      <td>8.738000</td>\n",
       "      <td>1.704000</td>\n",
       "      <td>2.438000</td>\n",
       "      <td>5.944000</td>\n",
       "      <td>4.062000</td>\n",
       "      <td>1.491000</td>\n",
       "      <td>5.392000</td>\n",
       "      <td>2.153000</td>\n",
       "      <td>0.972400</td>\n",
       "      <td>...</td>\n",
       "      <td>1.839000</td>\n",
       "      <td>1.172000</td>\n",
       "      <td>1.173000</td>\n",
       "      <td>1.901000</td>\n",
       "      <td>1.427000</td>\n",
       "      <td>1.588000</td>\n",
       "      <td>2.467000</td>\n",
       "      <td>0.630600</td>\n",
       "      <td>0.828500</td>\n",
       "      <td>1.399000</td>\n",
       "    </tr>\n",
       "  </tbody>\n",
       "</table>\n",
       "<p>8 rows × 873 columns</p>\n",
       "</div>"
      ],
      "text/plain": [
       "           tempo         g0         g1         g2         g3         g4  \\\n",
       "count  20.000000  20.000000  20.000000  20.000000  20.000000  20.000000   \n",
       "mean   49.200000   0.452285   0.148765  -0.112625   0.344225   0.517510   \n",
       "std    16.471986   2.054990   0.768392   1.247611   1.499328   1.431598   \n",
       "min    24.000000  -0.688400  -1.518000  -2.043000  -0.871100  -2.167000   \n",
       "25%    48.000000  -0.407150  -0.405750  -0.920875  -0.269600  -0.364300   \n",
       "50%    48.000000  -0.102900   0.223900  -0.261600  -0.107700   0.244750   \n",
       "75%    54.000000   0.309375   0.555300   0.466825   0.302975   1.289000   \n",
       "max    72.000000   8.738000   1.704000   2.438000   5.944000   4.062000   \n",
       "\n",
       "              g5         g6         g7         g8  ...        c90        c91  \\\n",
       "count  20.000000  20.000000  20.000000  20.000000  ...  20.000000  20.000000   \n",
       "mean   -0.329655   0.250250  -0.006615  -0.456145  ...  -0.942365  -0.412420   \n",
       "std     1.332546   1.656984   0.967996   2.159074  ...   2.653949   2.334489   \n",
       "min    -4.036000  -1.959000  -2.149000  -8.486000  ...  -9.984000  -9.984000   \n",
       "25%    -0.858600  -0.428575  -0.200675  -0.220125  ...  -1.052275  -0.467925   \n",
       "50%    -0.364900  -0.081850  -0.017100   0.065700  ...  -0.090450  -0.095250   \n",
       "75%     0.536675   0.488750   0.188275   0.567475  ...   0.285750   0.378525   \n",
       "max     1.491000   5.392000   2.153000   0.972400  ...   1.839000   1.172000   \n",
       "\n",
       "             c92        c93        c94        c95        c96        c97  \\\n",
       "count  20.000000  20.000000  20.000000  20.000000  20.000000  20.000000   \n",
       "mean   -0.541170  -0.659520  -0.468450  -0.574325  -0.808065  -0.712505   \n",
       "std     2.651850   2.604757   2.383023   2.686668   2.982240   2.413277   \n",
       "min    -9.984000  -9.984000  -9.984000  -9.984000  -9.984000  -9.984000   \n",
       "25%    -0.360850  -0.636550  -0.904400  -1.159000  -0.699900  -0.313525   \n",
       "50%     0.354850   0.022650   0.120700   0.240900   0.080000   0.004400   \n",
       "75%     0.681975   0.576375   0.726150   0.734200   0.663675   0.254300   \n",
       "max     1.173000   1.901000   1.427000   1.588000   2.467000   0.630600   \n",
       "\n",
       "             c98        c99  \n",
       "count  20.000000  20.000000  \n",
       "mean   -0.726685  -0.063135  \n",
       "std     2.667381   1.756567  \n",
       "min    -9.984000  -6.784000  \n",
       "25%    -0.451200  -0.059975  \n",
       "50%     0.077000   0.424200  \n",
       "75%     0.471350   0.718650  \n",
       "max     0.828500   1.399000  \n",
       "\n",
       "[8 rows x 873 columns]"
      ]
     },
     "execution_count": 39,
     "metadata": {},
     "output_type": "execute_result"
    }
   ],
   "source": [
    "df.head(20).describe()"
   ]
  },
  {
   "cell_type": "code",
   "execution_count": null,
   "id": "designing-drink",
   "metadata": {},
   "outputs": [],
   "source": [
    "print('tratamento : ', df['tratamento'].unique())\n",
    "print('tempo: ' , df['tempo'].unique())\n",
    "print('dose: ', df['dose'].unique())\n",
    "print('droga: ', df['droga'].unique())\n"
   ]
  },
  {
   "cell_type": "code",
   "execution_count": null,
   "id": "eligible-lexington",
   "metadata": {},
   "outputs": [],
   "source": [
    "df['tratamento'].value_counts()\n",
    "df['tempo'].value_counts()\n",
    "df['dose'].value_counts()\n"
   ]
  },
  {
   "cell_type": "markdown",
   "id": "individual-tractor",
   "metadata": {},
   "source": [
    "## Desafios "
   ]
  },
  {
   "cell_type": "code",
   "execution_count": null,
   "id": "forced-championship",
   "metadata": {},
   "outputs": [],
   "source": [
    "# Plotar as 5 ultimas linhas da tabela\n",
    "df.tail()"
   ]
  },
  {
   "cell_type": "code",
   "execution_count": null,
   "id": "authorized-robert",
   "metadata": {},
   "outputs": [],
   "source": [
    "# Proporção das classes tratamento\n",
    "print(df['tratamento'].value_counts(normalize =  True))"
   ]
  },
  {
   "cell_type": "code",
   "execution_count": null,
   "id": "broken-fortune",
   "metadata": {},
   "outputs": [],
   "source": [
    "sns.countplot(x = 'tratamento', data = df)"
   ]
  },
  {
   "cell_type": "code",
   "execution_count": null,
   "id": "considered-competition",
   "metadata": {},
   "outputs": [],
   "source": [
    "#Quantos tipos de drogas foram investigadas?\n",
    "print('foram investigados:',df['droga'].describe()[1], 'tipos de drogas')"
   ]
  },
  {
   "cell_type": "markdown",
   "id": "enabling-discharge",
   "metadata": {},
   "source": [
    "# Renomear as colunas \n"
   ]
  },
  {
   "cell_type": "code",
   "execution_count": 3,
   "id": "affecting-lending",
   "metadata": {
    "ExecuteTime": {
     "end_time": "2021-05-07T22:45:32.784678Z",
     "start_time": "2021-05-07T22:45:32.774241Z"
    },
    "scrolled": true
   },
   "outputs": [
    {
     "data": {
      "text/plain": [
       "Index(['g-0', 'g-1', 'g-2', 'g-3', 'g-4', 'g-5', 'g-6', 'g-7', 'g-8', 'g-9',\n",
       "       ...\n",
       "       'c-90', 'c-91', 'c-92', 'c-93', 'c-94', 'c-95', 'c-96', 'c-97', 'c-98',\n",
       "       'c-99'],\n",
       "      dtype='object', length=872)"
      ]
     },
     "execution_count": 3,
     "metadata": {},
     "output_type": "execute_result"
    }
   ],
   "source": [
    "df.columns[5:]"
   ]
  },
  {
   "cell_type": "code",
   "execution_count": 4,
   "id": "phantom-alloy",
   "metadata": {
    "ExecuteTime": {
     "end_time": "2021-05-07T22:45:34.185349Z",
     "start_time": "2021-05-07T22:45:34.168286Z"
    }
   },
   "outputs": [],
   "source": [
    "df.columns = df.columns.str.replace('-', '')"
   ]
  },
  {
   "cell_type": "code",
   "execution_count": 5,
   "id": "parallel-mumbai",
   "metadata": {
    "ExecuteTime": {
     "end_time": "2021-05-07T22:45:35.524271Z",
     "start_time": "2021-05-07T22:45:35.502325Z"
    }
   },
   "outputs": [
    {
     "data": {
      "text/plain": [
       "Index(['g0', 'g1', 'g2', 'g3', 'g4', 'g5', 'g6', 'g7', 'g8', 'g9',\n",
       "       ...\n",
       "       'c90', 'c91', 'c92', 'c93', 'c94', 'c95', 'c96', 'c97', 'c98', 'c99'],\n",
       "      dtype='object', length=872)"
      ]
     },
     "execution_count": 5,
     "metadata": {},
     "output_type": "execute_result"
    }
   ],
   "source": [
    "df.columns[5:]"
   ]
  },
  {
   "cell_type": "code",
   "execution_count": 6,
   "id": "bright-springer",
   "metadata": {
    "ExecuteTime": {
     "end_time": "2021-05-07T22:45:36.276568Z",
     "start_time": "2021-05-07T22:45:36.237415Z"
    }
   },
   "outputs": [
    {
     "data": {
      "text/plain": [
       "Index(['id', 'tratamento', 'tempo', 'dose', 'composto', 'g0', 'g1', 'g2', 'g3',\n",
       "       'g4',\n",
       "       ...\n",
       "       'c90', 'c91', 'c92', 'c93', 'c94', 'c95', 'c96', 'c97', 'c98', 'c99'],\n",
       "      dtype='object', length=877)"
      ]
     },
     "execution_count": 6,
     "metadata": {},
     "output_type": "execute_result"
    }
   ],
   "source": [
    "df_new = {'droga': 'composto'}\n",
    "df.rename(columns=df_new, inplace = True)\n",
    "df.columns"
   ]
  },
  {
   "cell_type": "markdown",
   "id": "biological-match",
   "metadata": {
    "ExecuteTime": {
     "end_time": "2021-05-07T22:03:25.061819Z",
     "start_time": "2021-05-07T22:03:25.053732Z"
    }
   },
   "source": [
    "# Plot com seaborn"
   ]
  },
  {
   "cell_type": "code",
   "execution_count": 7,
   "id": "compatible-producer",
   "metadata": {
    "ExecuteTime": {
     "end_time": "2021-05-07T22:45:41.413268Z",
     "start_time": "2021-05-07T22:45:41.100178Z"
    }
   },
   "outputs": [
    {
     "data": {
      "text/plain": [
       "[Text(0.5, 0, 'Nome dos Compostos'), Text(0, 0.5, 'Contagem')]"
      ]
     },
     "execution_count": 7,
     "metadata": {},
     "output_type": "execute_result"
    },
    {
     "data": {
      "image/png": "[encoded data removed]",
      "text/plain": [
       "<Figure size 432x288 with 1 Axes>"
      ]
     },
     "metadata": {},
     "output_type": "display_data"
    }
   ],
   "source": [
    "composto_index = df['composto'].value_counts()[0:5].index\n",
    "#o arroba seleciona o composto_index\n",
    "compostos = df.query('composto in @composto_index')\n",
    "\n",
    "sns.set(style = 'darkgrid')\n",
    "\n",
    "fig = sns.countplot( x = 'composto', data = compostos,\n",
    "              order = compostos['composto'].value_counts().index);\n",
    "\n",
    "#order = desafio 9\n",
    "fig.set(xlabel = 'Nome dos Compostos', ylabel = 'Contagem') #desafio 10"
   ]
  },
  {
   "cell_type": "code",
   "execution_count": 30,
   "id": "electronic-drink",
   "metadata": {
    "ExecuteTime": {
     "end_time": "2021-05-07T22:53:46.840314Z",
     "start_time": "2021-05-07T22:53:46.382309Z"
    }
   },
   "outputs": [
    {
     "data": {
      "image/png": "[encoded data removed]",
      "text/plain": [
       "<Figure size 432x288 with 2 Axes>"
      ]
     },
     "metadata": {},
     "output_type": "display_data"
    }
   ],
   "source": [
    "fig = plt.figure()\n",
    "\n",
    "plt.subplot(2, 2, 1)\n",
    "df['g1'].hist(bins = 50);\n",
    "\n",
    "plt.subplot(2, 2, 2)\n",
    "df['g19'].hist(bins = 50);\n"
   ]
  },
  {
   "cell_type": "code",
   "execution_count": 31,
   "id": "existing-december",
   "metadata": {
    "ExecuteTime": {
     "end_time": "2021-05-07T22:58:09.132070Z",
     "start_time": "2021-05-07T22:58:06.412091Z"
    }
   },
   "outputs": [
    {
     "data": {
      "text/plain": [
       "<AxesSubplot:>"
      ]
     },
     "execution_count": 31,
     "metadata": {},
     "output_type": "execute_result"
    },
    {
     "data": {
      "image/png": "[encoded data removed]",
      "text/plain": [
       "<Figure size 432x288 with 1 Axes>"
      ]
     },
     "metadata": {},
     "output_type": "display_data"
    }
   ],
   "source": [
    "df.loc[:, 'g0':'g771'].describe().T['mean'].hist(bins=30);"
   ]
  },
  {
   "cell_type": "code",
   "execution_count": 34,
   "id": "marine-cemetery",
   "metadata": {
    "ExecuteTime": {
     "end_time": "2021-05-07T23:01:43.228966Z",
     "start_time": "2021-05-07T23:01:37.188825Z"
    }
   },
   "outputs": [
    {
     "data": {
      "text/plain": [
       "<AxesSubplot:>"
      ]
     },
     "execution_count": 34,
     "metadata": {},
     "output_type": "execute_result"
    },
    {
     "data": {
      "image/png": "[encoded data removed]",
      "text/plain": [
       "<Figure size 432x288 with 1 Axes>"
      ]
     },
     "metadata": {},
     "output_type": "display_data"
    }
   ],
   "source": [
    "df.loc[:, 'g0':'g771'].describe().T['min'].hist(bins = 30);"
   ]
  },
  {
   "cell_type": "code",
   "execution_count": 35,
   "id": "level-translator",
   "metadata": {
    "ExecuteTime": {
     "end_time": "2021-05-07T23:02:02.986801Z",
     "start_time": "2021-05-07T23:01:56.236028Z"
    }
   },
   "outputs": [
    {
     "data": {
      "text/plain": [
       "<AxesSubplot:>"
      ]
     },
     "execution_count": 35,
     "metadata": {},
     "output_type": "execute_result"
    },
    {
     "data": {
      "image/png": "[encoded data removed]",
      "text/plain": [
       "<Figure size 432x288 with 1 Axes>"
      ]
     },
     "metadata": {},
     "output_type": "display_data"
    }
   ],
   "source": [
    "df.loc[:, 'g0':'g771'].describe().T['max'].hist(bins = 30)"
   ]
  },
  {
   "cell_type": "code",
   "execution_count": 41,
   "id": "collected-tunnel",
   "metadata": {
    "ExecuteTime": {
     "end_time": "2021-05-07T23:06:45.175023Z",
     "start_time": "2021-05-07T23:06:34.155947Z"
    }
   },
   "outputs": [
    {
     "data": {
      "image/png": "[encoded data removed]",
      "text/plain": [
       "<Figure size 432x288 with 4 Axes>"
      ]
     },
     "metadata": {},
     "output_type": "display_data"
    }
   ],
   "source": [
    "fig2 = plt.figure()\n",
    "\n",
    "plt.subplot(2, 2, 1)\n",
    "df.loc[:, 'g0':'g771'].describe().T['mean'].hist(bins=30);\n",
    "\n",
    "plt.subplot(2, 2, 2)\n",
    "df.loc[:, 'g0':'g771'].describe().T['min'].hist(bins = 30);\n",
    "\n",
    "plt.subplot(2,2,3)\n",
    "df.loc[:, 'g0':'g771'].describe().T['max'].hist(bins = 30);\n",
    "\n",
    "plt.subplot(2,2,4)\n",
    "df.loc[:, 'g0':'g771'].describe().T['std'].hist(bins = 30);"
   ]
  },
  {
   "cell_type": "markdown",
   "id": "velvet-lightweight",
   "metadata": {},
   "source": [
    "## Boxplot"
   ]
  },
  {
   "cell_type": "code",
   "execution_count": 48,
   "id": "stupid-treaty",
   "metadata": {
    "ExecuteTime": {
     "end_time": "2021-05-07T23:10:23.310563Z",
     "start_time": "2021-05-07T23:10:23.058701Z"
    }
   },
   "outputs": [
    {
     "data": {
      "image/png": "[encoded data removed]",
      "text/plain": [
       "<Figure size 576x432 with 1 Axes>"
      ]
     },
     "metadata": {},
     "output_type": "display_data"
    }
   ],
   "source": [
    "plt.figure (figsize = (8,6))\n",
    "sns.boxplot(y = 'g0', x ='tratamento', data = df);"
   ]
  },
  {
   "cell_type": "code",
   "execution_count": null,
   "id": "defined-producer",
   "metadata": {},
   "outputs": [],
   "source": [
    "# O que foi aprendido com os dados?"
   ]
  }
 ],
 "metadata": {
  "hide_input": false,
  "kernelspec": {
   "display_name": "Python 3",
   "language": "python",
   "name": "python3"
  },
  "language_info": {
   "codemirror_mode": {
    "name": "ipython",
    "version": 3
   },
   "file_extension": ".py",
   "mimetype": "text/x-python",
   "name": "python",
   "nbconvert_exporter": "python",
   "pygments_lexer": "ipython3",
   "version": "3.8.0"
  },
  "varInspector": {
   "cols": {
    "lenName": 16,
    "lenType": 16,
    "lenVar": 40
   },
   "kernels_config": {
    "python": {
     "delete_cmd_postfix": "",
     "delete_cmd_prefix": "del ",
     "library": "var_list.py",
     "varRefreshCmd": "print(var_dic_list())"
    },
    "r": {
     "delete_cmd_postfix": ") ",
     "delete_cmd_prefix": "rm(",
     "library": "var_list.r",
     "varRefreshCmd": "cat(var_dic_list()) "
    }
   },
   "types_to_exclude": [
    "module",
    "function",
    "builtin_function_or_method",
    "instance",
    "_Feature"
   ],
   "window_display": false
  }
 },
 "nbformat": 4,
 "nbformat_minor": 5
}
