{
 "cells": [
  {
   "cell_type": "markdown",
   "id": "artistic-committee",
   "metadata": {},
   "source": [
    "# Import biblioteca\n",
    "\n",
    "\n"
   ]
  },
  {
   "cell_type": "code",
   "execution_count": null,
   "id": "olive-capture",
   "metadata": {
    "ExecuteTime": {
     "end_time": "2021-05-09T15:52:19.630439Z",
     "start_time": "2021-05-09T15:52:19.158786Z"
    }
   },
   "outputs": [],
   "source": [
    "import math\n",
    "import numpy  as np\n",
    "import pandas as pd\n",
    "from IPython.core.display  import HTML\n",
    "import seaborn as sns"
   ]
  },
  {
   "cell_type": "markdown",
   "id": "approved-madonna",
   "metadata": {},
   "source": [
    "# Função Extra "
   ]
  },
  {
   "cell_type": "code",
   "execution_count": null,
   "id": "backed-audience",
   "metadata": {
    "ExecuteTime": {
     "end_time": "2021-05-09T15:55:46.786586Z",
     "start_time": "2021-05-09T15:55:46.779123Z"
    }
   },
   "outputs": [],
   "source": [
    "from IPython.core.display import display, HTML\n",
    "display(HTML(\"<style>.container { width:100% !important; }</style>\"))\n",
    "\n",
    "\n"
   ]
  },
  {
   "cell_type": "code",
   "execution_count": null,
   "id": "attempted-sailing",
   "metadata": {
    "ExecuteTime": {
     "end_time": "2021-05-09T15:56:25.447797Z",
     "start_time": "2021-05-09T15:56:25.441750Z"
    }
   },
   "outputs": [],
   "source": [
    "%%html\n",
    "<style>\n",
    ".output_svg div{\n",
    "  width: 100% !important;\n",
    "  height: 100% !important;\n",
    "}\n",
    "</style>"
   ]
  },
  {
   "cell_type": "markdown",
   "id": "satisfied-simulation",
   "metadata": {},
   "source": [
    "# Import Dataset"
   ]
  },
  {
   "cell_type": "code",
   "execution_count": null,
   "id": "stainless-pepper",
   "metadata": {
    "ExecuteTime": {
     "end_time": "2021-05-09T15:51:40.972166Z",
     "start_time": "2021-05-09T15:51:38.172686Z"
    }
   },
   "outputs": [],
   "source": [
    "url = 'https://github.com/alura-cursos/imersaodados3/blob/main/dados/dados_experimentos.zip?raw=true'\n",
    "\n",
    "df = pd.read_csv(url, compression ='zip')\n",
    "\n",
    "df.head()"
   ]
  },
  {
   "cell_type": "markdown",
   "id": "leading-leonard",
   "metadata": {},
   "source": [
    "# Conhecendo dados"
   ]
  },
  {
   "cell_type": "code",
   "execution_count": null,
   "id": "august-immigration",
   "metadata": {
    "ExecuteTime": {
     "end_time": "2021-05-09T15:51:45.617226Z",
     "start_time": "2021-05-09T15:51:44.279887Z"
    }
   },
   "outputs": [],
   "source": [
    "df.head(20).describe()"
   ]
  },
  {
   "cell_type": "code",
   "execution_count": null,
   "id": "designing-drink",
   "metadata": {
    "ExecuteTime": {
     "end_time": "2021-05-09T15:51:48.373460Z",
     "start_time": "2021-05-09T15:51:48.357102Z"
    }
   },
   "outputs": [],
   "source": [
    "print('tratamento : ', df['tratamento'].unique())\n",
    "print('tempo: ' , df['tempo'].unique())\n",
    "print('dose: ', df['dose'].unique())\n",
    "print('droga: ', df['droga'].unique())\n"
   ]
  },
  {
   "cell_type": "code",
   "execution_count": null,
   "id": "eligible-lexington",
   "metadata": {
    "ExecuteTime": {
     "end_time": "2021-05-09T15:51:49.266853Z",
     "start_time": "2021-05-09T15:51:49.216685Z"
    }
   },
   "outputs": [],
   "source": [
    "df['tratamento'].value_counts()\n",
    "df['tempo'].value_counts()\n",
    "df['dose'].value_counts()\n"
   ]
  },
  {
   "cell_type": "markdown",
   "id": "individual-tractor",
   "metadata": {},
   "source": [
    "## Desafios "
   ]
  },
  {
   "cell_type": "code",
   "execution_count": null,
   "id": "forced-championship",
   "metadata": {},
   "outputs": [],
   "source": [
    "# Plotar as 5 ultimas linhas da tabela\n",
    "df.tail()"
   ]
  },
  {
   "cell_type": "code",
   "execution_count": null,
   "id": "authorized-robert",
   "metadata": {},
   "outputs": [],
   "source": [
    "# Proporção das classes tratamento\n",
    "print(df['tratamento'].value_counts(normalize =  True))"
   ]
  },
  {
   "cell_type": "code",
   "execution_count": null,
   "id": "broken-fortune",
   "metadata": {},
   "outputs": [],
   "source": [
    "sns.countplot(x = 'tratamento', data = df)"
   ]
  },
  {
   "cell_type": "code",
   "execution_count": null,
   "id": "considered-competition",
   "metadata": {},
   "outputs": [],
   "source": [
    "#Quantos tipos de drogas foram investigadas?\n",
    "print('foram investigados:',df['droga'].describe()[1], 'tipos de drogas')"
   ]
  },
  {
   "cell_type": "markdown",
   "id": "enabling-discharge",
   "metadata": {},
   "source": [
    "# Renomear as colunas \n"
   ]
  },
  {
   "cell_type": "code",
   "execution_count": null,
   "id": "affecting-lending",
   "metadata": {
    "ExecuteTime": {
     "end_time": "2021-05-09T15:51:52.959641Z",
     "start_time": "2021-05-09T15:51:52.943889Z"
    },
    "scrolled": true
   },
   "outputs": [],
   "source": [
    "df.columns[5:]"
   ]
  },
  {
   "cell_type": "code",
   "execution_count": null,
   "id": "phantom-alloy",
   "metadata": {
    "ExecuteTime": {
     "end_time": "2021-05-09T15:51:53.656998Z",
     "start_time": "2021-05-09T15:51:53.649426Z"
    }
   },
   "outputs": [],
   "source": [
    "df.columns = df.columns.str.replace('-', '')"
   ]
  },
  {
   "cell_type": "code",
   "execution_count": null,
   "id": "parallel-mumbai",
   "metadata": {
    "ExecuteTime": {
     "end_time": "2021-05-09T15:51:54.343450Z",
     "start_time": "2021-05-09T15:51:54.338395Z"
    }
   },
   "outputs": [],
   "source": [
    "df.columns[5:]"
   ]
  },
  {
   "cell_type": "code",
   "execution_count": null,
   "id": "bright-springer",
   "metadata": {
    "ExecuteTime": {
     "end_time": "2021-05-09T15:51:54.924851Z",
     "start_time": "2021-05-09T15:51:54.916322Z"
    }
   },
   "outputs": [],
   "source": [
    "df_new = {'droga': 'composto'}\n",
    "df.rename(columns=df_new, inplace = True)\n",
    "df.columns"
   ]
  },
  {
   "cell_type": "markdown",
   "id": "biological-match",
   "metadata": {
    "ExecuteTime": {
     "end_time": "2021-05-07T22:03:25.061819Z",
     "start_time": "2021-05-07T22:03:25.053732Z"
    }
   },
   "source": [
    "# Plot com seaborn"
   ]
  },
  {
   "cell_type": "code",
   "execution_count": null,
   "id": "compatible-producer",
   "metadata": {
    "ExecuteTime": {
     "end_time": "2021-05-07T22:45:41.413268Z",
     "start_time": "2021-05-07T22:45:41.100178Z"
    }
   },
   "outputs": [],
   "source": [
    "composto_index = df['composto'].value_counts()[0:5].index\n",
    "#o arroba seleciona o composto_index\n",
    "compostos = df.query('composto in @composto_index')\n",
    "\n",
    "sns.set(style = 'darkgrid')\n",
    "\n",
    "fig = sns.countplot( x = 'composto', data = compostos,\n",
    "              order = compostos['composto'].value_counts().index);\n",
    "\n",
    "#order = desafio 9\n",
    "fig.set(xlabel = 'Nome dos Compostos', ylabel = 'Contagem') #desafio 10"
   ]
  },
  {
   "cell_type": "code",
   "execution_count": null,
   "id": "electronic-drink",
   "metadata": {
    "ExecuteTime": {
     "end_time": "2021-05-07T22:53:46.840314Z",
     "start_time": "2021-05-07T22:53:46.382309Z"
    }
   },
   "outputs": [],
   "source": [
    "fig = plt.figure()\n",
    "\n",
    "plt.subplot(2, 2, 1)\n",
    "df['g1'].hist(bins = 50);\n",
    "\n",
    "plt.subplot(2, 2, 2)\n",
    "df['g19'].hist(bins = 50);\n"
   ]
  },
  {
   "cell_type": "code",
   "execution_count": null,
   "id": "existing-december",
   "metadata": {
    "ExecuteTime": {
     "end_time": "2021-05-07T22:58:09.132070Z",
     "start_time": "2021-05-07T22:58:06.412091Z"
    }
   },
   "outputs": [],
   "source": [
    "df.loc[:, 'g0':'g771'].describe().T['mean'].hist(bins=30);"
   ]
  },
  {
   "cell_type": "code",
   "execution_count": null,
   "id": "marine-cemetery",
   "metadata": {
    "ExecuteTime": {
     "end_time": "2021-05-07T23:01:43.228966Z",
     "start_time": "2021-05-07T23:01:37.188825Z"
    }
   },
   "outputs": [],
   "source": [
    "df.loc[:, 'g0':'g771'].describe().T['min'].hist(bins = 30);"
   ]
  },
  {
   "cell_type": "code",
   "execution_count": null,
   "id": "level-translator",
   "metadata": {
    "ExecuteTime": {
     "end_time": "2021-05-07T23:02:02.986801Z",
     "start_time": "2021-05-07T23:01:56.236028Z"
    }
   },
   "outputs": [],
   "source": [
    "df.loc[:, 'g0':'g771'].describe().T['max'].hist(bins = 30)"
   ]
  },
  {
   "cell_type": "code",
   "execution_count": null,
   "id": "collected-tunnel",
   "metadata": {
    "ExecuteTime": {
     "end_time": "2021-05-07T23:06:45.175023Z",
     "start_time": "2021-05-07T23:06:34.155947Z"
    }
   },
   "outputs": [],
   "source": [
    "fig2 = plt.figure()\n",
    "\n",
    "plt.subplot(2, 2, 1)\n",
    "df.loc[:, 'g0':'g771'].describe().T['mean'].hist(bins=30);\n",
    "\n",
    "plt.subplot(2, 2, 2)\n",
    "df.loc[:, 'g0':'g771'].describe().T['min'].hist(bins = 30);\n",
    "\n",
    "plt.subplot(2,2,3)\n",
    "df.loc[:, 'g0':'g771'].describe().T['max'].hist(bins = 30);\n",
    "\n",
    "plt.subplot(2,2,4)\n",
    "df.loc[:, 'g0':'g771'].describe().T['std'].hist(bins = 30);"
   ]
  },
  {
   "cell_type": "markdown",
   "id": "velvet-lightweight",
   "metadata": {},
   "source": [
    "## Boxplot"
   ]
  },
  {
   "cell_type": "code",
   "execution_count": null,
   "id": "stupid-treaty",
   "metadata": {
    "ExecuteTime": {
     "end_time": "2021-05-07T23:10:23.310563Z",
     "start_time": "2021-05-07T23:10:23.058701Z"
    }
   },
   "outputs": [],
   "source": [
    "plt.figure (figsize = (8,6))\n",
    "sns.boxplot(y = 'g0', x ='tratamento', data = df);"
   ]
  },
  {
   "cell_type": "code",
   "execution_count": null,
   "id": "defined-producer",
   "metadata": {},
   "outputs": [],
   "source": [
    "# O que foi aprendido com os dados?"
   ]
  },
  {
   "cell_type": "markdown",
   "id": "bacterial-south",
   "metadata": {},
   "source": [
    "# Aula 4"
   ]
  },
  {
   "cell_type": "markdown",
   "id": "turned-photographer",
   "metadata": {
    "ExecuteTime": {
     "end_time": "2021-05-09T14:06:14.358939Z",
     "start_time": "2021-05-09T14:06:14.349491Z"
    }
   },
   "source": [
    "## Tabela de Frequencia"
   ]
  },
  {
   "cell_type": "code",
   "execution_count": null,
   "id": "loved-philippines",
   "metadata": {
    "ExecuteTime": {
     "end_time": "2021-05-09T14:06:50.233312Z",
     "start_time": "2021-05-09T14:06:49.987317Z"
    }
   },
   "outputs": [],
   "source": [
    "pd.crosstab(df['dose'],df['tempo'])"
   ]
  },
  {
   "cell_type": "code",
   "execution_count": null,
   "id": "under-steps",
   "metadata": {
    "ExecuteTime": {
     "end_time": "2021-05-09T15:39:14.735442Z",
     "start_time": "2021-05-09T15:39:14.650234Z"
    }
   },
   "outputs": [],
   "source": [
    "pd.crosstab([df['dose'],df['tempo']], df['tratamento'])\n",
    "\n",
    "#as colunas serão os tratamentos\n",
    "#normalize com True = Pela soma total\n",
    "#Normalize com Index = cada linha é 100"
   ]
  },
  {
   "cell_type": "code",
   "execution_count": null,
   "id": "tested-cleveland",
   "metadata": {
    "ExecuteTime": {
     "end_time": "2021-05-09T14:30:33.952831Z",
     "start_time": "2021-05-09T14:30:33.872243Z"
    }
   },
   "outputs": [],
   "source": [
    "# Ajustando por agrupamento de um gene só pela média \n",
    "\n",
    "pd.crosstab([df['dose'],df['tempo']], df['tratamento'], values = df['g0'], aggfunc = 'mean')\n"
   ]
  },
  {
   "cell_type": "code",
   "execution_count": null,
   "id": "crude-walter",
   "metadata": {
    "ExecuteTime": {
     "end_time": "2021-05-09T14:26:13.451496Z",
     "start_time": "2021-05-09T14:26:13.411318Z"
    }
   },
   "outputs": [],
   "source": [
    "desafio = df[['dose', 'tempo', 'tratamento']].groupby(['tratamento', 'tempo']).count().reset_index()"
   ]
  },
  {
   "cell_type": "code",
   "execution_count": null,
   "id": "urban-naples",
   "metadata": {
    "ExecuteTime": {
     "end_time": "2021-05-09T14:24:26.516716Z",
     "start_time": "2021-05-09T14:24:26.495273Z"
    }
   },
   "outputs": [],
   "source": [
    "desafio"
   ]
  },
  {
   "cell_type": "markdown",
   "id": "frequent-flashing",
   "metadata": {},
   "source": [
    "## Comparação entre colunas"
   ]
  },
  {
   "cell_type": "code",
   "execution_count": null,
   "id": "shaped-optimization",
   "metadata": {
    "ExecuteTime": {
     "end_time": "2021-05-09T14:35:48.049429Z",
     "start_time": "2021-05-09T14:35:48.031033Z"
    }
   },
   "outputs": [],
   "source": [
    "df[['g0', 'g3']]"
   ]
  },
  {
   "cell_type": "code",
   "execution_count": null,
   "id": "intensive-voltage",
   "metadata": {
    "ExecuteTime": {
     "end_time": "2021-05-09T15:56:32.251456Z",
     "start_time": "2021-05-09T15:56:32.045445Z"
    }
   },
   "outputs": [],
   "source": [
    "sns.scatterplot(x = 'g0', y='g3', data = df)"
   ]
  },
  {
   "cell_type": "code",
   "execution_count": null,
   "id": "tribal-blink",
   "metadata": {
    "ExecuteTime": {
     "end_time": "2021-05-09T15:39:27.921580Z",
     "start_time": "2021-05-09T15:39:25.686745Z"
    }
   },
   "outputs": [],
   "source": [
    "sns.lmplot(data=df, x='g0', y = 'g3', line_kws = {'color': 'red'})"
   ]
  },
  {
   "cell_type": "code",
   "execution_count": null,
   "id": "visible-concentrate",
   "metadata": {
    "ExecuteTime": {
     "end_time": "2021-05-09T14:40:17.331915Z",
     "start_time": "2021-05-09T14:40:15.234721Z"
    }
   },
   "outputs": [],
   "source": [
    "sns.lmplot(data=df, x='g0', y = 'g8', line_kws = {'color': 'red'})"
   ]
  },
  {
   "cell_type": "code",
   "execution_count": null,
   "id": "lesbian-penguin",
   "metadata": {
    "ExecuteTime": {
     "end_time": "2021-05-09T15:10:56.267405Z",
     "start_time": "2021-05-09T15:10:52.835978Z"
    }
   },
   "outputs": [],
   "source": [
    "sns.lmplot(data=df, x='g0', y = 'g3', line_kws = {'color': 'red'}, col = 'tratamento',row = 'tempo')\n",
    "#adicionando colunas de separação"
   ]
  },
  {
   "cell_type": "code",
   "execution_count": null,
   "id": "recreational-potential",
   "metadata": {
    "ExecuteTime": {
     "end_time": "2021-05-09T16:04:11.981600Z",
     "start_time": "2021-05-09T16:04:11.457270Z"
    }
   },
   "outputs": [],
   "source": [
    "# Gráfico de correlação \n",
    "\n",
    "correlation = df.loc[:, 'g0':'g30'].corr()\n",
    "matrix = np.triu(correlation.corr())\n",
    "\n",
    "sns.heatmap(correlation.corr(), cmap = 'OrRd', square = True, annot = False, center = 0,\n",
    "             mask = matrix, linewidths = .5);"
   ]
  },
  {
   "cell_type": "code",
   "execution_count": null,
   "id": "english-origin",
   "metadata": {
    "ExecuteTime": {
     "end_time": "2021-05-09T16:03:55.011335Z",
     "start_time": "2021-05-09T16:03:54.436081Z"
    }
   },
   "outputs": [],
   "source": [
    "# Gráfico de correlação tipos celulares \n",
    "correlation_celular = df.loc[:, 'c0':'c30'].corr()\n",
    "matrix = np.triu(correlation_celular.corr())\n",
    "\n",
    "sns.heatmap(correlation_celular.corr(), cmap = 'OrRd', square = True, annot = False, center = 0,\n",
    "             mask = matrix, linewidths = .5);"
   ]
  },
  {
   "cell_type": "code",
   "execution_count": null,
   "id": "appropriate-puppy",
   "metadata": {},
   "outputs": [],
   "source": []
  },
  {
   "cell_type": "code",
   "execution_count": null,
   "id": "molecular-layout",
   "metadata": {},
   "outputs": [],
   "source": []
  },
  {
   "cell_type": "code",
   "execution_count": 1,
   "id": "clinical-crash",
   "metadata": {
    "ExecuteTime": {
     "end_time": "2021-05-09T16:59:03.448382Z",
     "start_time": "2021-05-09T16:59:03.441962Z"
    }
   },
   "outputs": [
    {
     "name": "stdout",
     "output_type": "stream",
     "text": [
      "1 4\n",
      "4 5\n"
     ]
    }
   ],
   "source": [
    "c,d = 1,4\n",
    "print(c,d)\n",
    "\n",
    "\n",
    "c,d = d,d+1\n",
    "\n",
    "print(c,d)"
   ]
  },
  {
   "cell_type": "code",
   "execution_count": null,
   "id": "distributed-partner",
   "metadata": {},
   "outputs": [],
   "source": []
  },
  {
   "cell_type": "code",
   "execution_count": null,
   "id": "abroad-flour",
   "metadata": {},
   "outputs": [],
   "source": []
  },
  {
   "cell_type": "code",
   "execution_count": null,
   "id": "removed-objective",
   "metadata": {},
   "outputs": [],
   "source": []
  },
  {
   "cell_type": "code",
   "execution_count": 3,
   "id": "associate-bridal",
   "metadata": {
    "ExecuteTime": {
     "end_time": "2021-05-09T16:59:59.612766Z",
     "start_time": "2021-05-09T16:59:59.590824Z"
    }
   },
   "outputs": [
    {
     "name": "stdout",
     "output_type": "stream",
     "text": [
      "6\n",
      "18 6\n"
     ]
    },
    {
     "data": {
      "text/plain": [
       "6"
      ]
     },
     "execution_count": 3,
     "metadata": {},
     "output_type": "execute_result"
    }
   ],
   "source": [
    "a = 6\n",
    "print(a)\n",
    "\n",
    "a,b = 3*a,a\n",
    "print(a,b)\n",
    "\n",
    "b"
   ]
  },
  {
   "cell_type": "code",
   "execution_count": null,
   "id": "colored-gravity",
   "metadata": {},
   "outputs": [],
   "source": []
  },
  {
   "cell_type": "code",
   "execution_count": null,
   "id": "found-trash",
   "metadata": {},
   "outputs": [],
   "source": []
  },
  {
   "cell_type": "code",
   "execution_count": null,
   "id": "protecting-montreal",
   "metadata": {},
   "outputs": [],
   "source": []
  },
  {
   "cell_type": "code",
   "execution_count": null,
   "id": "healthy-musician",
   "metadata": {},
   "outputs": [],
   "source": []
  },
  {
   "cell_type": "code",
   "execution_count": null,
   "id": "sought-tuesday",
   "metadata": {},
   "outputs": [],
   "source": []
  }
 ],
 "metadata": {
  "hide_input": false,
  "kernelspec": {
   "display_name": "Python 3",
   "language": "python",
   "name": "python3"
  },
  "language_info": {
   "codemirror_mode": {
    "name": "ipython",
    "version": 3
   },
   "file_extension": ".py",
   "mimetype": "text/x-python",
   "name": "python",
   "nbconvert_exporter": "python",
   "pygments_lexer": "ipython3",
   "version": "3.8.0"
  },
  "varInspector": {
   "cols": {
    "lenName": 16,
    "lenType": 16,
    "lenVar": 40
   },
   "kernels_config": {
    "python": {
     "delete_cmd_postfix": "",
     "delete_cmd_prefix": "del ",
     "library": "var_list.py",
     "varRefreshCmd": "print(var_dic_list())"
    },
    "r": {
     "delete_cmd_postfix": ") ",
     "delete_cmd_prefix": "rm(",
     "library": "var_list.r",
     "varRefreshCmd": "cat(var_dic_list()) "
    }
   },
   "types_to_exclude": [
    "module",
    "function",
    "builtin_function_or_method",
    "instance",
    "_Feature"
   ],
   "window_display": false
  }
 },
 "nbformat": 4,
 "nbformat_minor": 5
}
