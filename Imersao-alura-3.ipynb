{
 "cells": [
  {
   "cell_type": "markdown",
   "id": "artistic-committee",
   "metadata": {},
   "source": [
    "# Import biblioteca\n",
    "\n",
    "\n"
   ]
  },
  {
   "cell_type": "code",
   "execution_count": 14,
   "id": "olive-capture",
   "metadata": {
    "ExecuteTime": {
     "end_time": "2021-05-09T15:52:19.630439Z",
     "start_time": "2021-05-09T15:52:19.158786Z"
    }
   },
   "outputs": [],
   "source": [
    "import math\n",
    "import numpy  as np\n",
    "import pandas as pd\n",
    "from IPython.core.display  import HTML\n",
    "import seaborn as sns"
   ]
  },
  {
   "cell_type": "markdown",
   "id": "approved-madonna",
   "metadata": {},
   "source": [
    "# Função Extra "
   ]
  },
  {
   "cell_type": "code",
   "execution_count": 17,
   "id": "backed-audience",
   "metadata": {
    "ExecuteTime": {
     "end_time": "2021-05-09T15:55:46.786586Z",
     "start_time": "2021-05-09T15:55:46.779123Z"
    }
   },
   "outputs": [
    {
     "data": {
      "text/html": [
       "<style>.container { width:100% !important; }</style>"
      ],
      "text/plain": [
       "<IPython.core.display.HTML object>"
      ]
     },
     "metadata": {},
     "output_type": "display_data"
    }
   ],
   "source": [
    "from IPython.core.display import display, HTML\n",
    "display(HTML(\"<style>.container { width:100% !important; }</style>\"))\n",
    "\n",
    "\n"
   ]
  },
  {
   "cell_type": "code",
   "execution_count": 19,
   "id": "attempted-sailing",
   "metadata": {
    "ExecuteTime": {
     "end_time": "2021-05-09T15:56:25.447797Z",
     "start_time": "2021-05-09T15:56:25.441750Z"
    }
   },
   "outputs": [
    {
     "data": {
      "text/html": [
       "<style>\n",
       ".output_svg div{\n",
       "  width: 100% !important;\n",
       "  height: 100% !important;\n",
       "}\n",
       "</style>\n"
      ],
      "text/plain": [
       "<IPython.core.display.HTML object>"
      ]
     },
     "metadata": {},
     "output_type": "display_data"
    }
   ],
   "source": [
    "%%html\n",
    "<style>\n",
    ".output_svg div{\n",
    "  width: 100% !important;\n",
    "  height: 100% !important;\n",
    "}\n",
    "</style>"
   ]
  },
  {
   "cell_type": "markdown",
   "id": "satisfied-simulation",
   "metadata": {},
   "source": [
    "# Import Dataset"
   ]
  },
  {
   "cell_type": "code",
   "execution_count": 5,
   "id": "stainless-pepper",
   "metadata": {
    "ExecuteTime": {
     "end_time": "2021-05-09T15:51:40.972166Z",
     "start_time": "2021-05-09T15:51:38.172686Z"
    }
   },
   "outputs": [
    {
     "ename": "KeyboardInterrupt",
     "evalue": "",
     "output_type": "error",
     "traceback": [
      "\u001b[0;31m---------------------------------------------------------------------------\u001b[0m",
      "\u001b[0;31mKeyboardInterrupt\u001b[0m                         Traceback (most recent call last)",
      "\u001b[0;32m<ipython-input-5-794b24d6de1a>\u001b[0m in \u001b[0;36m<module>\u001b[0;34m\u001b[0m\n\u001b[1;32m      1\u001b[0m \u001b[0murl\u001b[0m \u001b[0;34m=\u001b[0m \u001b[0;34m'https://github.com/alura-cursos/imersaodados3/blob/main/dados/dados_experimentos.zip?raw=true'\u001b[0m\u001b[0;34m\u001b[0m\u001b[0;34m\u001b[0m\u001b[0m\n\u001b[1;32m      2\u001b[0m \u001b[0;34m\u001b[0m\u001b[0m\n\u001b[0;32m----> 3\u001b[0;31m \u001b[0mdf\u001b[0m \u001b[0;34m=\u001b[0m \u001b[0mpd\u001b[0m\u001b[0;34m.\u001b[0m\u001b[0mread_csv\u001b[0m\u001b[0;34m(\u001b[0m\u001b[0murl\u001b[0m\u001b[0;34m,\u001b[0m \u001b[0mcompression\u001b[0m \u001b[0;34m=\u001b[0m\u001b[0;34m'zip'\u001b[0m\u001b[0;34m)\u001b[0m\u001b[0;34m\u001b[0m\u001b[0;34m\u001b[0m\u001b[0m\n\u001b[0m\u001b[1;32m      4\u001b[0m \u001b[0;34m\u001b[0m\u001b[0m\n\u001b[1;32m      5\u001b[0m \u001b[0mdf\u001b[0m\u001b[0;34m.\u001b[0m\u001b[0mhead\u001b[0m\u001b[0;34m(\u001b[0m\u001b[0;34m)\u001b[0m\u001b[0;34m\u001b[0m\u001b[0;34m\u001b[0m\u001b[0m\n",
      "\u001b[0;32m~/.pyenv/versions/3.8.0/lib/python3.8/site-packages/pandas/io/parsers.py\u001b[0m in \u001b[0;36mread_csv\u001b[0;34m(filepath_or_buffer, sep, delimiter, header, names, index_col, usecols, squeeze, prefix, mangle_dupe_cols, dtype, engine, converters, true_values, false_values, skipinitialspace, skiprows, skipfooter, nrows, na_values, keep_default_na, na_filter, verbose, skip_blank_lines, parse_dates, infer_datetime_format, keep_date_col, date_parser, dayfirst, cache_dates, iterator, chunksize, compression, thousands, decimal, lineterminator, quotechar, quoting, doublequote, escapechar, comment, encoding, dialect, error_bad_lines, warn_bad_lines, delim_whitespace, low_memory, memory_map, float_precision, storage_options)\u001b[0m\n\u001b[1;32m    608\u001b[0m     \u001b[0mkwds\u001b[0m\u001b[0;34m.\u001b[0m\u001b[0mupdate\u001b[0m\u001b[0;34m(\u001b[0m\u001b[0mkwds_defaults\u001b[0m\u001b[0;34m)\u001b[0m\u001b[0;34m\u001b[0m\u001b[0;34m\u001b[0m\u001b[0m\n\u001b[1;32m    609\u001b[0m \u001b[0;34m\u001b[0m\u001b[0m\n\u001b[0;32m--> 610\u001b[0;31m     \u001b[0;32mreturn\u001b[0m \u001b[0m_read\u001b[0m\u001b[0;34m(\u001b[0m\u001b[0mfilepath_or_buffer\u001b[0m\u001b[0;34m,\u001b[0m \u001b[0mkwds\u001b[0m\u001b[0;34m)\u001b[0m\u001b[0;34m\u001b[0m\u001b[0;34m\u001b[0m\u001b[0m\n\u001b[0m\u001b[1;32m    611\u001b[0m \u001b[0;34m\u001b[0m\u001b[0m\n\u001b[1;32m    612\u001b[0m \u001b[0;34m\u001b[0m\u001b[0m\n",
      "\u001b[0;32m~/.pyenv/versions/3.8.0/lib/python3.8/site-packages/pandas/io/parsers.py\u001b[0m in \u001b[0;36m_read\u001b[0;34m(filepath_or_buffer, kwds)\u001b[0m\n\u001b[1;32m    460\u001b[0m \u001b[0;34m\u001b[0m\u001b[0m\n\u001b[1;32m    461\u001b[0m     \u001b[0;31m# Create the parser.\u001b[0m\u001b[0;34m\u001b[0m\u001b[0;34m\u001b[0m\u001b[0;34m\u001b[0m\u001b[0m\n\u001b[0;32m--> 462\u001b[0;31m     \u001b[0mparser\u001b[0m \u001b[0;34m=\u001b[0m \u001b[0mTextFileReader\u001b[0m\u001b[0;34m(\u001b[0m\u001b[0mfilepath_or_buffer\u001b[0m\u001b[0;34m,\u001b[0m \u001b[0;34m**\u001b[0m\u001b[0mkwds\u001b[0m\u001b[0;34m)\u001b[0m\u001b[0;34m\u001b[0m\u001b[0;34m\u001b[0m\u001b[0m\n\u001b[0m\u001b[1;32m    463\u001b[0m \u001b[0;34m\u001b[0m\u001b[0m\n\u001b[1;32m    464\u001b[0m     \u001b[0;32mif\u001b[0m \u001b[0mchunksize\u001b[0m \u001b[0;32mor\u001b[0m \u001b[0miterator\u001b[0m\u001b[0;34m:\u001b[0m\u001b[0;34m\u001b[0m\u001b[0;34m\u001b[0m\u001b[0m\n",
      "\u001b[0;32m~/.pyenv/versions/3.8.0/lib/python3.8/site-packages/pandas/io/parsers.py\u001b[0m in \u001b[0;36m__init__\u001b[0;34m(self, f, engine, **kwds)\u001b[0m\n\u001b[1;32m    817\u001b[0m             \u001b[0mself\u001b[0m\u001b[0;34m.\u001b[0m\u001b[0moptions\u001b[0m\u001b[0;34m[\u001b[0m\u001b[0;34m\"has_index_names\"\u001b[0m\u001b[0;34m]\u001b[0m \u001b[0;34m=\u001b[0m \u001b[0mkwds\u001b[0m\u001b[0;34m[\u001b[0m\u001b[0;34m\"has_index_names\"\u001b[0m\u001b[0;34m]\u001b[0m\u001b[0;34m\u001b[0m\u001b[0;34m\u001b[0m\u001b[0m\n\u001b[1;32m    818\u001b[0m \u001b[0;34m\u001b[0m\u001b[0m\n\u001b[0;32m--> 819\u001b[0;31m         \u001b[0mself\u001b[0m\u001b[0;34m.\u001b[0m\u001b[0m_engine\u001b[0m \u001b[0;34m=\u001b[0m \u001b[0mself\u001b[0m\u001b[0;34m.\u001b[0m\u001b[0m_make_engine\u001b[0m\u001b[0;34m(\u001b[0m\u001b[0mself\u001b[0m\u001b[0;34m.\u001b[0m\u001b[0mengine\u001b[0m\u001b[0;34m)\u001b[0m\u001b[0;34m\u001b[0m\u001b[0;34m\u001b[0m\u001b[0m\n\u001b[0m\u001b[1;32m    820\u001b[0m \u001b[0;34m\u001b[0m\u001b[0m\n\u001b[1;32m    821\u001b[0m     \u001b[0;32mdef\u001b[0m \u001b[0mclose\u001b[0m\u001b[0;34m(\u001b[0m\u001b[0mself\u001b[0m\u001b[0;34m)\u001b[0m\u001b[0;34m:\u001b[0m\u001b[0;34m\u001b[0m\u001b[0;34m\u001b[0m\u001b[0m\n",
      "\u001b[0;32m~/.pyenv/versions/3.8.0/lib/python3.8/site-packages/pandas/io/parsers.py\u001b[0m in \u001b[0;36m_make_engine\u001b[0;34m(self, engine)\u001b[0m\n\u001b[1;32m   1048\u001b[0m             )\n\u001b[1;32m   1049\u001b[0m         \u001b[0;31m# error: Too many arguments for \"ParserBase\"\u001b[0m\u001b[0;34m\u001b[0m\u001b[0;34m\u001b[0m\u001b[0;34m\u001b[0m\u001b[0m\n\u001b[0;32m-> 1050\u001b[0;31m         \u001b[0;32mreturn\u001b[0m \u001b[0mmapping\u001b[0m\u001b[0;34m[\u001b[0m\u001b[0mengine\u001b[0m\u001b[0;34m]\u001b[0m\u001b[0;34m(\u001b[0m\u001b[0mself\u001b[0m\u001b[0;34m.\u001b[0m\u001b[0mf\u001b[0m\u001b[0;34m,\u001b[0m \u001b[0;34m**\u001b[0m\u001b[0mself\u001b[0m\u001b[0;34m.\u001b[0m\u001b[0moptions\u001b[0m\u001b[0;34m)\u001b[0m  \u001b[0;31m# type: ignore[call-arg]\u001b[0m\u001b[0;34m\u001b[0m\u001b[0;34m\u001b[0m\u001b[0m\n\u001b[0m\u001b[1;32m   1051\u001b[0m \u001b[0;34m\u001b[0m\u001b[0m\n\u001b[1;32m   1052\u001b[0m     \u001b[0;32mdef\u001b[0m \u001b[0m_failover_to_python\u001b[0m\u001b[0;34m(\u001b[0m\u001b[0mself\u001b[0m\u001b[0;34m)\u001b[0m\u001b[0;34m:\u001b[0m\u001b[0;34m\u001b[0m\u001b[0;34m\u001b[0m\u001b[0m\n",
      "\u001b[0;32m~/.pyenv/versions/3.8.0/lib/python3.8/site-packages/pandas/io/parsers.py\u001b[0m in \u001b[0;36m__init__\u001b[0;34m(self, src, **kwds)\u001b[0m\n\u001b[1;32m   1865\u001b[0m \u001b[0;34m\u001b[0m\u001b[0m\n\u001b[1;32m   1866\u001b[0m         \u001b[0;31m# open handles\u001b[0m\u001b[0;34m\u001b[0m\u001b[0;34m\u001b[0m\u001b[0;34m\u001b[0m\u001b[0m\n\u001b[0;32m-> 1867\u001b[0;31m         \u001b[0mself\u001b[0m\u001b[0;34m.\u001b[0m\u001b[0m_open_handles\u001b[0m\u001b[0;34m(\u001b[0m\u001b[0msrc\u001b[0m\u001b[0;34m,\u001b[0m \u001b[0mkwds\u001b[0m\u001b[0;34m)\u001b[0m\u001b[0;34m\u001b[0m\u001b[0;34m\u001b[0m\u001b[0m\n\u001b[0m\u001b[1;32m   1868\u001b[0m         \u001b[0;32massert\u001b[0m \u001b[0mself\u001b[0m\u001b[0;34m.\u001b[0m\u001b[0mhandles\u001b[0m \u001b[0;32mis\u001b[0m \u001b[0;32mnot\u001b[0m \u001b[0;32mNone\u001b[0m\u001b[0;34m\u001b[0m\u001b[0;34m\u001b[0m\u001b[0m\n\u001b[1;32m   1869\u001b[0m         \u001b[0;32mfor\u001b[0m \u001b[0mkey\u001b[0m \u001b[0;32min\u001b[0m \u001b[0;34m(\u001b[0m\u001b[0;34m\"storage_options\"\u001b[0m\u001b[0;34m,\u001b[0m \u001b[0;34m\"encoding\"\u001b[0m\u001b[0;34m,\u001b[0m \u001b[0;34m\"memory_map\"\u001b[0m\u001b[0;34m,\u001b[0m \u001b[0;34m\"compression\"\u001b[0m\u001b[0;34m)\u001b[0m\u001b[0;34m:\u001b[0m\u001b[0;34m\u001b[0m\u001b[0;34m\u001b[0m\u001b[0m\n",
      "\u001b[0;32m~/.pyenv/versions/3.8.0/lib/python3.8/site-packages/pandas/io/parsers.py\u001b[0m in \u001b[0;36m_open_handles\u001b[0;34m(self, src, kwds)\u001b[0m\n\u001b[1;32m   1360\u001b[0m         \u001b[0mLet\u001b[0m \u001b[0mthe\u001b[0m \u001b[0mreaders\u001b[0m \u001b[0mopen\u001b[0m \u001b[0mIOHanldes\u001b[0m \u001b[0mafter\u001b[0m \u001b[0mthey\u001b[0m \u001b[0mare\u001b[0m \u001b[0mdone\u001b[0m \u001b[0;32mwith\u001b[0m \u001b[0mtheir\u001b[0m \u001b[0mpotential\u001b[0m \u001b[0mraises\u001b[0m\u001b[0;34m.\u001b[0m\u001b[0;34m\u001b[0m\u001b[0;34m\u001b[0m\u001b[0m\n\u001b[1;32m   1361\u001b[0m         \"\"\"\n\u001b[0;32m-> 1362\u001b[0;31m         self.handles = get_handle(\n\u001b[0m\u001b[1;32m   1363\u001b[0m             \u001b[0msrc\u001b[0m\u001b[0;34m,\u001b[0m\u001b[0;34m\u001b[0m\u001b[0;34m\u001b[0m\u001b[0m\n\u001b[1;32m   1364\u001b[0m             \u001b[0;34m\"r\"\u001b[0m\u001b[0;34m,\u001b[0m\u001b[0;34m\u001b[0m\u001b[0;34m\u001b[0m\u001b[0m\n",
      "\u001b[0;32m~/.pyenv/versions/3.8.0/lib/python3.8/site-packages/pandas/io/common.py\u001b[0m in \u001b[0;36mget_handle\u001b[0;34m(path_or_buf, mode, encoding, compression, memory_map, is_text, errors, storage_options)\u001b[0m\n\u001b[1;32m    556\u001b[0m \u001b[0;34m\u001b[0m\u001b[0m\n\u001b[1;32m    557\u001b[0m     \u001b[0;31m# open URLs\u001b[0m\u001b[0;34m\u001b[0m\u001b[0;34m\u001b[0m\u001b[0;34m\u001b[0m\u001b[0m\n\u001b[0;32m--> 558\u001b[0;31m     ioargs = _get_filepath_or_buffer(\n\u001b[0m\u001b[1;32m    559\u001b[0m         \u001b[0mpath_or_buf\u001b[0m\u001b[0;34m,\u001b[0m\u001b[0;34m\u001b[0m\u001b[0;34m\u001b[0m\u001b[0m\n\u001b[1;32m    560\u001b[0m         \u001b[0mencoding\u001b[0m\u001b[0;34m=\u001b[0m\u001b[0mencoding\u001b[0m\u001b[0;34m,\u001b[0m\u001b[0;34m\u001b[0m\u001b[0;34m\u001b[0m\u001b[0m\n",
      "\u001b[0;32m~/.pyenv/versions/3.8.0/lib/python3.8/site-packages/pandas/io/common.py\u001b[0m in \u001b[0;36m_get_filepath_or_buffer\u001b[0;34m(filepath_or_buffer, encoding, compression, mode, storage_options)\u001b[0m\n\u001b[1;32m    292\u001b[0m             \u001b[0;31m# Override compression based on Content-Encoding header\u001b[0m\u001b[0;34m\u001b[0m\u001b[0;34m\u001b[0m\u001b[0;34m\u001b[0m\u001b[0m\n\u001b[1;32m    293\u001b[0m             \u001b[0mcompression\u001b[0m \u001b[0;34m=\u001b[0m \u001b[0;34m{\u001b[0m\u001b[0;34m\"method\"\u001b[0m\u001b[0;34m:\u001b[0m \u001b[0;34m\"gzip\"\u001b[0m\u001b[0;34m}\u001b[0m\u001b[0;34m\u001b[0m\u001b[0;34m\u001b[0m\u001b[0m\n\u001b[0;32m--> 294\u001b[0;31m         \u001b[0mreader\u001b[0m \u001b[0;34m=\u001b[0m \u001b[0mBytesIO\u001b[0m\u001b[0;34m(\u001b[0m\u001b[0mreq\u001b[0m\u001b[0;34m.\u001b[0m\u001b[0mread\u001b[0m\u001b[0;34m(\u001b[0m\u001b[0;34m)\u001b[0m\u001b[0;34m)\u001b[0m\u001b[0;34m\u001b[0m\u001b[0;34m\u001b[0m\u001b[0m\n\u001b[0m\u001b[1;32m    295\u001b[0m         \u001b[0mreq\u001b[0m\u001b[0;34m.\u001b[0m\u001b[0mclose\u001b[0m\u001b[0;34m(\u001b[0m\u001b[0;34m)\u001b[0m\u001b[0;34m\u001b[0m\u001b[0;34m\u001b[0m\u001b[0m\n\u001b[1;32m    296\u001b[0m         return IOArgs(\n",
      "\u001b[0;32m~/.pyenv/versions/3.8.0/lib/python3.8/http/client.py\u001b[0m in \u001b[0;36mread\u001b[0;34m(self, amt)\u001b[0m\n\u001b[1;32m    465\u001b[0m             \u001b[0;32melse\u001b[0m\u001b[0;34m:\u001b[0m\u001b[0;34m\u001b[0m\u001b[0;34m\u001b[0m\u001b[0m\n\u001b[1;32m    466\u001b[0m                 \u001b[0;32mtry\u001b[0m\u001b[0;34m:\u001b[0m\u001b[0;34m\u001b[0m\u001b[0;34m\u001b[0m\u001b[0m\n\u001b[0;32m--> 467\u001b[0;31m                     \u001b[0ms\u001b[0m \u001b[0;34m=\u001b[0m \u001b[0mself\u001b[0m\u001b[0;34m.\u001b[0m\u001b[0m_safe_read\u001b[0m\u001b[0;34m(\u001b[0m\u001b[0mself\u001b[0m\u001b[0;34m.\u001b[0m\u001b[0mlength\u001b[0m\u001b[0;34m)\u001b[0m\u001b[0;34m\u001b[0m\u001b[0;34m\u001b[0m\u001b[0m\n\u001b[0m\u001b[1;32m    468\u001b[0m                 \u001b[0;32mexcept\u001b[0m \u001b[0mIncompleteRead\u001b[0m\u001b[0;34m:\u001b[0m\u001b[0;34m\u001b[0m\u001b[0;34m\u001b[0m\u001b[0m\n\u001b[1;32m    469\u001b[0m                     \u001b[0mself\u001b[0m\u001b[0;34m.\u001b[0m\u001b[0m_close_conn\u001b[0m\u001b[0;34m(\u001b[0m\u001b[0;34m)\u001b[0m\u001b[0;34m\u001b[0m\u001b[0;34m\u001b[0m\u001b[0m\n",
      "\u001b[0;32m~/.pyenv/versions/3.8.0/lib/python3.8/http/client.py\u001b[0m in \u001b[0;36m_safe_read\u001b[0;34m(self, amt)\u001b[0m\n\u001b[1;32m    606\u001b[0m         \u001b[0mIncompleteRead\u001b[0m \u001b[0mexception\u001b[0m \u001b[0mcan\u001b[0m \u001b[0mbe\u001b[0m \u001b[0mused\u001b[0m \u001b[0mto\u001b[0m \u001b[0mdetect\u001b[0m \u001b[0mthe\u001b[0m \u001b[0mproblem\u001b[0m\u001b[0;34m.\u001b[0m\u001b[0;34m\u001b[0m\u001b[0;34m\u001b[0m\u001b[0m\n\u001b[1;32m    607\u001b[0m         \"\"\"\n\u001b[0;32m--> 608\u001b[0;31m         \u001b[0mdata\u001b[0m \u001b[0;34m=\u001b[0m \u001b[0mself\u001b[0m\u001b[0;34m.\u001b[0m\u001b[0mfp\u001b[0m\u001b[0;34m.\u001b[0m\u001b[0mread\u001b[0m\u001b[0;34m(\u001b[0m\u001b[0mamt\u001b[0m\u001b[0;34m)\u001b[0m\u001b[0;34m\u001b[0m\u001b[0;34m\u001b[0m\u001b[0m\n\u001b[0m\u001b[1;32m    609\u001b[0m         \u001b[0;32mif\u001b[0m \u001b[0mlen\u001b[0m\u001b[0;34m(\u001b[0m\u001b[0mdata\u001b[0m\u001b[0;34m)\u001b[0m \u001b[0;34m<\u001b[0m \u001b[0mamt\u001b[0m\u001b[0;34m:\u001b[0m\u001b[0;34m\u001b[0m\u001b[0;34m\u001b[0m\u001b[0m\n\u001b[1;32m    610\u001b[0m             \u001b[0;32mraise\u001b[0m \u001b[0mIncompleteRead\u001b[0m\u001b[0;34m(\u001b[0m\u001b[0mdata\u001b[0m\u001b[0;34m,\u001b[0m \u001b[0mamt\u001b[0m\u001b[0;34m-\u001b[0m\u001b[0mlen\u001b[0m\u001b[0;34m(\u001b[0m\u001b[0mdata\u001b[0m\u001b[0;34m)\u001b[0m\u001b[0;34m)\u001b[0m\u001b[0;34m\u001b[0m\u001b[0;34m\u001b[0m\u001b[0m\n",
      "\u001b[0;32m~/.pyenv/versions/3.8.0/lib/python3.8/socket.py\u001b[0m in \u001b[0;36mreadinto\u001b[0;34m(self, b)\u001b[0m\n\u001b[1;32m    667\u001b[0m         \u001b[0;32mwhile\u001b[0m \u001b[0;32mTrue\u001b[0m\u001b[0;34m:\u001b[0m\u001b[0;34m\u001b[0m\u001b[0;34m\u001b[0m\u001b[0m\n\u001b[1;32m    668\u001b[0m             \u001b[0;32mtry\u001b[0m\u001b[0;34m:\u001b[0m\u001b[0;34m\u001b[0m\u001b[0;34m\u001b[0m\u001b[0m\n\u001b[0;32m--> 669\u001b[0;31m                 \u001b[0;32mreturn\u001b[0m \u001b[0mself\u001b[0m\u001b[0;34m.\u001b[0m\u001b[0m_sock\u001b[0m\u001b[0;34m.\u001b[0m\u001b[0mrecv_into\u001b[0m\u001b[0;34m(\u001b[0m\u001b[0mb\u001b[0m\u001b[0;34m)\u001b[0m\u001b[0;34m\u001b[0m\u001b[0;34m\u001b[0m\u001b[0m\n\u001b[0m\u001b[1;32m    670\u001b[0m             \u001b[0;32mexcept\u001b[0m \u001b[0mtimeout\u001b[0m\u001b[0;34m:\u001b[0m\u001b[0;34m\u001b[0m\u001b[0;34m\u001b[0m\u001b[0m\n\u001b[1;32m    671\u001b[0m                 \u001b[0mself\u001b[0m\u001b[0;34m.\u001b[0m\u001b[0m_timeout_occurred\u001b[0m \u001b[0;34m=\u001b[0m \u001b[0;32mTrue\u001b[0m\u001b[0;34m\u001b[0m\u001b[0;34m\u001b[0m\u001b[0m\n",
      "\u001b[0;32m~/.pyenv/versions/3.8.0/lib/python3.8/ssl.py\u001b[0m in \u001b[0;36mrecv_into\u001b[0;34m(self, buffer, nbytes, flags)\u001b[0m\n\u001b[1;32m   1239\u001b[0m                   \u001b[0;34m\"non-zero flags not allowed in calls to recv_into() on %s\"\u001b[0m \u001b[0;34m%\u001b[0m\u001b[0;34m\u001b[0m\u001b[0;34m\u001b[0m\u001b[0m\n\u001b[1;32m   1240\u001b[0m                   self.__class__)\n\u001b[0;32m-> 1241\u001b[0;31m             \u001b[0;32mreturn\u001b[0m \u001b[0mself\u001b[0m\u001b[0;34m.\u001b[0m\u001b[0mread\u001b[0m\u001b[0;34m(\u001b[0m\u001b[0mnbytes\u001b[0m\u001b[0;34m,\u001b[0m \u001b[0mbuffer\u001b[0m\u001b[0;34m)\u001b[0m\u001b[0;34m\u001b[0m\u001b[0;34m\u001b[0m\u001b[0m\n\u001b[0m\u001b[1;32m   1242\u001b[0m         \u001b[0;32melse\u001b[0m\u001b[0;34m:\u001b[0m\u001b[0;34m\u001b[0m\u001b[0;34m\u001b[0m\u001b[0m\n\u001b[1;32m   1243\u001b[0m             \u001b[0;32mreturn\u001b[0m \u001b[0msuper\u001b[0m\u001b[0;34m(\u001b[0m\u001b[0;34m)\u001b[0m\u001b[0;34m.\u001b[0m\u001b[0mrecv_into\u001b[0m\u001b[0;34m(\u001b[0m\u001b[0mbuffer\u001b[0m\u001b[0;34m,\u001b[0m \u001b[0mnbytes\u001b[0m\u001b[0;34m,\u001b[0m \u001b[0mflags\u001b[0m\u001b[0;34m)\u001b[0m\u001b[0;34m\u001b[0m\u001b[0;34m\u001b[0m\u001b[0m\n",
      "\u001b[0;32m~/.pyenv/versions/3.8.0/lib/python3.8/ssl.py\u001b[0m in \u001b[0;36mread\u001b[0;34m(self, len, buffer)\u001b[0m\n\u001b[1;32m   1097\u001b[0m         \u001b[0;32mtry\u001b[0m\u001b[0;34m:\u001b[0m\u001b[0;34m\u001b[0m\u001b[0;34m\u001b[0m\u001b[0m\n\u001b[1;32m   1098\u001b[0m             \u001b[0;32mif\u001b[0m \u001b[0mbuffer\u001b[0m \u001b[0;32mis\u001b[0m \u001b[0;32mnot\u001b[0m \u001b[0;32mNone\u001b[0m\u001b[0;34m:\u001b[0m\u001b[0;34m\u001b[0m\u001b[0;34m\u001b[0m\u001b[0m\n\u001b[0;32m-> 1099\u001b[0;31m                 \u001b[0;32mreturn\u001b[0m \u001b[0mself\u001b[0m\u001b[0;34m.\u001b[0m\u001b[0m_sslobj\u001b[0m\u001b[0;34m.\u001b[0m\u001b[0mread\u001b[0m\u001b[0;34m(\u001b[0m\u001b[0mlen\u001b[0m\u001b[0;34m,\u001b[0m \u001b[0mbuffer\u001b[0m\u001b[0;34m)\u001b[0m\u001b[0;34m\u001b[0m\u001b[0;34m\u001b[0m\u001b[0m\n\u001b[0m\u001b[1;32m   1100\u001b[0m             \u001b[0;32melse\u001b[0m\u001b[0;34m:\u001b[0m\u001b[0;34m\u001b[0m\u001b[0;34m\u001b[0m\u001b[0m\n\u001b[1;32m   1101\u001b[0m                 \u001b[0;32mreturn\u001b[0m \u001b[0mself\u001b[0m\u001b[0;34m.\u001b[0m\u001b[0m_sslobj\u001b[0m\u001b[0;34m.\u001b[0m\u001b[0mread\u001b[0m\u001b[0;34m(\u001b[0m\u001b[0mlen\u001b[0m\u001b[0;34m)\u001b[0m\u001b[0;34m\u001b[0m\u001b[0;34m\u001b[0m\u001b[0m\n",
      "\u001b[0;31mKeyboardInterrupt\u001b[0m: "
     ]
    }
   ],
   "source": [
    "url = 'https://github.com/alura-cursos/imersaodados3/blob/main/dados/dados_experimentos.zip?raw=true'\n",
    "\n",
    "df = pd.read_csv(url, compression ='zip')\n",
    "\n",
    "df.head()"
   ]
  },
  {
   "cell_type": "markdown",
   "id": "leading-leonard",
   "metadata": {},
   "source": [
    "# Conhecendo dados"
   ]
  },
  {
   "cell_type": "code",
   "execution_count": 6,
   "id": "august-immigration",
   "metadata": {
    "ExecuteTime": {
     "end_time": "2021-05-09T15:51:45.617226Z",
     "start_time": "2021-05-09T15:51:44.279887Z"
    }
   },
   "outputs": [
    {
     "data": {
      "text/html": [
       "<div>\n",
       "<style scoped>\n",
       "    .dataframe tbody tr th:only-of-type {\n",
       "        vertical-align: middle;\n",
       "    }\n",
       "\n",
       "    .dataframe tbody tr th {\n",
       "        vertical-align: top;\n",
       "    }\n",
       "\n",
       "    .dataframe thead th {\n",
       "        text-align: right;\n",
       "    }\n",
       "</style>\n",
       "<table border=\"1\" class=\"dataframe\">\n",
       "  <thead>\n",
       "    <tr style=\"text-align: right;\">\n",
       "      <th></th>\n",
       "      <th>tempo</th>\n",
       "      <th>g-0</th>\n",
       "      <th>g-1</th>\n",
       "      <th>g-2</th>\n",
       "      <th>g-3</th>\n",
       "      <th>g-4</th>\n",
       "      <th>g-5</th>\n",
       "      <th>g-6</th>\n",
       "      <th>g-7</th>\n",
       "      <th>g-8</th>\n",
       "      <th>...</th>\n",
       "      <th>c-90</th>\n",
       "      <th>c-91</th>\n",
       "      <th>c-92</th>\n",
       "      <th>c-93</th>\n",
       "      <th>c-94</th>\n",
       "      <th>c-95</th>\n",
       "      <th>c-96</th>\n",
       "      <th>c-97</th>\n",
       "      <th>c-98</th>\n",
       "      <th>c-99</th>\n",
       "    </tr>\n",
       "  </thead>\n",
       "  <tbody>\n",
       "    <tr>\n",
       "      <th>count</th>\n",
       "      <td>20.000000</td>\n",
       "      <td>20.000000</td>\n",
       "      <td>20.000000</td>\n",
       "      <td>20.000000</td>\n",
       "      <td>20.000000</td>\n",
       "      <td>20.000000</td>\n",
       "      <td>20.000000</td>\n",
       "      <td>20.000000</td>\n",
       "      <td>20.000000</td>\n",
       "      <td>20.000000</td>\n",
       "      <td>...</td>\n",
       "      <td>20.000000</td>\n",
       "      <td>20.000000</td>\n",
       "      <td>20.000000</td>\n",
       "      <td>20.000000</td>\n",
       "      <td>20.000000</td>\n",
       "      <td>20.000000</td>\n",
       "      <td>20.000000</td>\n",
       "      <td>20.000000</td>\n",
       "      <td>20.000000</td>\n",
       "      <td>20.000000</td>\n",
       "    </tr>\n",
       "    <tr>\n",
       "      <th>mean</th>\n",
       "      <td>49.200000</td>\n",
       "      <td>0.452285</td>\n",
       "      <td>0.148765</td>\n",
       "      <td>-0.112625</td>\n",
       "      <td>0.344225</td>\n",
       "      <td>0.517510</td>\n",
       "      <td>-0.329655</td>\n",
       "      <td>0.250250</td>\n",
       "      <td>-0.006615</td>\n",
       "      <td>-0.456145</td>\n",
       "      <td>...</td>\n",
       "      <td>-0.942365</td>\n",
       "      <td>-0.412420</td>\n",
       "      <td>-0.541170</td>\n",
       "      <td>-0.659520</td>\n",
       "      <td>-0.468450</td>\n",
       "      <td>-0.574325</td>\n",
       "      <td>-0.808065</td>\n",
       "      <td>-0.712505</td>\n",
       "      <td>-0.726685</td>\n",
       "      <td>-0.063135</td>\n",
       "    </tr>\n",
       "    <tr>\n",
       "      <th>std</th>\n",
       "      <td>16.471986</td>\n",
       "      <td>2.054990</td>\n",
       "      <td>0.768392</td>\n",
       "      <td>1.247611</td>\n",
       "      <td>1.499328</td>\n",
       "      <td>1.431598</td>\n",
       "      <td>1.332546</td>\n",
       "      <td>1.656984</td>\n",
       "      <td>0.967996</td>\n",
       "      <td>2.159074</td>\n",
       "      <td>...</td>\n",
       "      <td>2.653949</td>\n",
       "      <td>2.334489</td>\n",
       "      <td>2.651850</td>\n",
       "      <td>2.604757</td>\n",
       "      <td>2.383023</td>\n",
       "      <td>2.686668</td>\n",
       "      <td>2.982240</td>\n",
       "      <td>2.413277</td>\n",
       "      <td>2.667381</td>\n",
       "      <td>1.756567</td>\n",
       "    </tr>\n",
       "    <tr>\n",
       "      <th>min</th>\n",
       "      <td>24.000000</td>\n",
       "      <td>-0.688400</td>\n",
       "      <td>-1.518000</td>\n",
       "      <td>-2.043000</td>\n",
       "      <td>-0.871100</td>\n",
       "      <td>-2.167000</td>\n",
       "      <td>-4.036000</td>\n",
       "      <td>-1.959000</td>\n",
       "      <td>-2.149000</td>\n",
       "      <td>-8.486000</td>\n",
       "      <td>...</td>\n",
       "      <td>-9.984000</td>\n",
       "      <td>-9.984000</td>\n",
       "      <td>-9.984000</td>\n",
       "      <td>-9.984000</td>\n",
       "      <td>-9.984000</td>\n",
       "      <td>-9.984000</td>\n",
       "      <td>-9.984000</td>\n",
       "      <td>-9.984000</td>\n",
       "      <td>-9.984000</td>\n",
       "      <td>-6.784000</td>\n",
       "    </tr>\n",
       "    <tr>\n",
       "      <th>25%</th>\n",
       "      <td>48.000000</td>\n",
       "      <td>-0.407150</td>\n",
       "      <td>-0.405750</td>\n",
       "      <td>-0.920875</td>\n",
       "      <td>-0.269600</td>\n",
       "      <td>-0.364300</td>\n",
       "      <td>-0.858600</td>\n",
       "      <td>-0.428575</td>\n",
       "      <td>-0.200675</td>\n",
       "      <td>-0.220125</td>\n",
       "      <td>...</td>\n",
       "      <td>-1.052275</td>\n",
       "      <td>-0.467925</td>\n",
       "      <td>-0.360850</td>\n",
       "      <td>-0.636550</td>\n",
       "      <td>-0.904400</td>\n",
       "      <td>-1.159000</td>\n",
       "      <td>-0.699900</td>\n",
       "      <td>-0.313525</td>\n",
       "      <td>-0.451200</td>\n",
       "      <td>-0.059975</td>\n",
       "    </tr>\n",
       "    <tr>\n",
       "      <th>50%</th>\n",
       "      <td>48.000000</td>\n",
       "      <td>-0.102900</td>\n",
       "      <td>0.223900</td>\n",
       "      <td>-0.261600</td>\n",
       "      <td>-0.107700</td>\n",
       "      <td>0.244750</td>\n",
       "      <td>-0.364900</td>\n",
       "      <td>-0.081850</td>\n",
       "      <td>-0.017100</td>\n",
       "      <td>0.065700</td>\n",
       "      <td>...</td>\n",
       "      <td>-0.090450</td>\n",
       "      <td>-0.095250</td>\n",
       "      <td>0.354850</td>\n",
       "      <td>0.022650</td>\n",
       "      <td>0.120700</td>\n",
       "      <td>0.240900</td>\n",
       "      <td>0.080000</td>\n",
       "      <td>0.004400</td>\n",
       "      <td>0.077000</td>\n",
       "      <td>0.424200</td>\n",
       "    </tr>\n",
       "    <tr>\n",
       "      <th>75%</th>\n",
       "      <td>54.000000</td>\n",
       "      <td>0.309375</td>\n",
       "      <td>0.555300</td>\n",
       "      <td>0.466825</td>\n",
       "      <td>0.302975</td>\n",
       "      <td>1.289000</td>\n",
       "      <td>0.536675</td>\n",
       "      <td>0.488750</td>\n",
       "      <td>0.188275</td>\n",
       "      <td>0.567475</td>\n",
       "      <td>...</td>\n",
       "      <td>0.285750</td>\n",
       "      <td>0.378525</td>\n",
       "      <td>0.681975</td>\n",
       "      <td>0.576375</td>\n",
       "      <td>0.726150</td>\n",
       "      <td>0.734200</td>\n",
       "      <td>0.663675</td>\n",
       "      <td>0.254300</td>\n",
       "      <td>0.471350</td>\n",
       "      <td>0.718650</td>\n",
       "    </tr>\n",
       "    <tr>\n",
       "      <th>max</th>\n",
       "      <td>72.000000</td>\n",
       "      <td>8.738000</td>\n",
       "      <td>1.704000</td>\n",
       "      <td>2.438000</td>\n",
       "      <td>5.944000</td>\n",
       "      <td>4.062000</td>\n",
       "      <td>1.491000</td>\n",
       "      <td>5.392000</td>\n",
       "      <td>2.153000</td>\n",
       "      <td>0.972400</td>\n",
       "      <td>...</td>\n",
       "      <td>1.839000</td>\n",
       "      <td>1.172000</td>\n",
       "      <td>1.173000</td>\n",
       "      <td>1.901000</td>\n",
       "      <td>1.427000</td>\n",
       "      <td>1.588000</td>\n",
       "      <td>2.467000</td>\n",
       "      <td>0.630600</td>\n",
       "      <td>0.828500</td>\n",
       "      <td>1.399000</td>\n",
       "    </tr>\n",
       "  </tbody>\n",
       "</table>\n",
       "<p>8 rows × 873 columns</p>\n",
       "</div>"
      ],
      "text/plain": [
       "           tempo        g-0        g-1        g-2        g-3        g-4  \\\n",
       "count  20.000000  20.000000  20.000000  20.000000  20.000000  20.000000   \n",
       "mean   49.200000   0.452285   0.148765  -0.112625   0.344225   0.517510   \n",
       "std    16.471986   2.054990   0.768392   1.247611   1.499328   1.431598   \n",
       "min    24.000000  -0.688400  -1.518000  -2.043000  -0.871100  -2.167000   \n",
       "25%    48.000000  -0.407150  -0.405750  -0.920875  -0.269600  -0.364300   \n",
       "50%    48.000000  -0.102900   0.223900  -0.261600  -0.107700   0.244750   \n",
       "75%    54.000000   0.309375   0.555300   0.466825   0.302975   1.289000   \n",
       "max    72.000000   8.738000   1.704000   2.438000   5.944000   4.062000   \n",
       "\n",
       "             g-5        g-6        g-7        g-8  ...       c-90       c-91  \\\n",
       "count  20.000000  20.000000  20.000000  20.000000  ...  20.000000  20.000000   \n",
       "mean   -0.329655   0.250250  -0.006615  -0.456145  ...  -0.942365  -0.412420   \n",
       "std     1.332546   1.656984   0.967996   2.159074  ...   2.653949   2.334489   \n",
       "min    -4.036000  -1.959000  -2.149000  -8.486000  ...  -9.984000  -9.984000   \n",
       "25%    -0.858600  -0.428575  -0.200675  -0.220125  ...  -1.052275  -0.467925   \n",
       "50%    -0.364900  -0.081850  -0.017100   0.065700  ...  -0.090450  -0.095250   \n",
       "75%     0.536675   0.488750   0.188275   0.567475  ...   0.285750   0.378525   \n",
       "max     1.491000   5.392000   2.153000   0.972400  ...   1.839000   1.172000   \n",
       "\n",
       "            c-92       c-93       c-94       c-95       c-96       c-97  \\\n",
       "count  20.000000  20.000000  20.000000  20.000000  20.000000  20.000000   \n",
       "mean   -0.541170  -0.659520  -0.468450  -0.574325  -0.808065  -0.712505   \n",
       "std     2.651850   2.604757   2.383023   2.686668   2.982240   2.413277   \n",
       "min    -9.984000  -9.984000  -9.984000  -9.984000  -9.984000  -9.984000   \n",
       "25%    -0.360850  -0.636550  -0.904400  -1.159000  -0.699900  -0.313525   \n",
       "50%     0.354850   0.022650   0.120700   0.240900   0.080000   0.004400   \n",
       "75%     0.681975   0.576375   0.726150   0.734200   0.663675   0.254300   \n",
       "max     1.173000   1.901000   1.427000   1.588000   2.467000   0.630600   \n",
       "\n",
       "            c-98       c-99  \n",
       "count  20.000000  20.000000  \n",
       "mean   -0.726685  -0.063135  \n",
       "std     2.667381   1.756567  \n",
       "min    -9.984000  -6.784000  \n",
       "25%    -0.451200  -0.059975  \n",
       "50%     0.077000   0.424200  \n",
       "75%     0.471350   0.718650  \n",
       "max     0.828500   1.399000  \n",
       "\n",
       "[8 rows x 873 columns]"
      ]
     },
     "execution_count": 6,
     "metadata": {},
     "output_type": "execute_result"
    }
   ],
   "source": [
    "df.head(20).describe()"
   ]
  },
  {
   "cell_type": "code",
   "execution_count": 7,
   "id": "designing-drink",
   "metadata": {
    "ExecuteTime": {
     "end_time": "2021-05-09T15:51:48.373460Z",
     "start_time": "2021-05-09T15:51:48.357102Z"
    }
   },
   "outputs": [
    {
     "name": "stdout",
     "output_type": "stream",
     "text": [
      "tratamento :  ['com_droga' 'com_controle']\n",
      "tempo:  [24 72 48]\n",
      "dose:  ['D1' 'D2']\n",
      "droga:  ['b68db1d53' 'df89a8e5a' '18bb41b2c' ... '573c787a2' 'b2fe3eca7'\n",
      " 'dd4a96d16']\n"
     ]
    }
   ],
   "source": [
    "print('tratamento : ', df['tratamento'].unique())\n",
    "print('tempo: ' , df['tempo'].unique())\n",
    "print('dose: ', df['dose'].unique())\n",
    "print('droga: ', df['droga'].unique())\n"
   ]
  },
  {
   "cell_type": "code",
   "execution_count": 8,
   "id": "eligible-lexington",
   "metadata": {
    "ExecuteTime": {
     "end_time": "2021-05-09T15:51:49.266853Z",
     "start_time": "2021-05-09T15:51:49.216685Z"
    }
   },
   "outputs": [
    {
     "data": {
      "text/plain": [
       "D1    12147\n",
       "D2    11667\n",
       "Name: dose, dtype: int64"
      ]
     },
     "execution_count": 8,
     "metadata": {},
     "output_type": "execute_result"
    }
   ],
   "source": [
    "df['tratamento'].value_counts()\n",
    "df['tempo'].value_counts()\n",
    "df['dose'].value_counts()\n"
   ]
  },
  {
   "cell_type": "markdown",
   "id": "individual-tractor",
   "metadata": {},
   "source": [
    "## Desafios "
   ]
  },
  {
   "cell_type": "code",
   "execution_count": null,
   "id": "forced-championship",
   "metadata": {},
   "outputs": [],
   "source": [
    "# Plotar as 5 ultimas linhas da tabela\n",
    "df.tail()"
   ]
  },
  {
   "cell_type": "code",
   "execution_count": null,
   "id": "authorized-robert",
   "metadata": {},
   "outputs": [],
   "source": [
    "# Proporção das classes tratamento\n",
    "print(df['tratamento'].value_counts(normalize =  True))"
   ]
  },
  {
   "cell_type": "code",
   "execution_count": null,
   "id": "broken-fortune",
   "metadata": {},
   "outputs": [],
   "source": [
    "sns.countplot(x = 'tratamento', data = df)"
   ]
  },
  {
   "cell_type": "code",
   "execution_count": null,
   "id": "considered-competition",
   "metadata": {},
   "outputs": [],
   "source": [
    "#Quantos tipos de drogas foram investigadas?\n",
    "print('foram investigados:',df['droga'].describe()[1], 'tipos de drogas')"
   ]
  },
  {
   "cell_type": "markdown",
   "id": "enabling-discharge",
   "metadata": {},
   "source": [
    "# Renomear as colunas \n"
   ]
  },
  {
   "cell_type": "code",
   "execution_count": 9,
   "id": "affecting-lending",
   "metadata": {
    "ExecuteTime": {
     "end_time": "2021-05-09T15:51:52.959641Z",
     "start_time": "2021-05-09T15:51:52.943889Z"
    },
    "scrolled": true
   },
   "outputs": [
    {
     "data": {
      "text/plain": [
       "Index(['g-0', 'g-1', 'g-2', 'g-3', 'g-4', 'g-5', 'g-6', 'g-7', 'g-8', 'g-9',\n",
       "       ...\n",
       "       'c-90', 'c-91', 'c-92', 'c-93', 'c-94', 'c-95', 'c-96', 'c-97', 'c-98',\n",
       "       'c-99'],\n",
       "      dtype='object', length=872)"
      ]
     },
     "execution_count": 9,
     "metadata": {},
     "output_type": "execute_result"
    }
   ],
   "source": [
    "df.columns[5:]"
   ]
  },
  {
   "cell_type": "code",
   "execution_count": 10,
   "id": "phantom-alloy",
   "metadata": {
    "ExecuteTime": {
     "end_time": "2021-05-09T15:51:53.656998Z",
     "start_time": "2021-05-09T15:51:53.649426Z"
    }
   },
   "outputs": [],
   "source": [
    "df.columns = df.columns.str.replace('-', '')"
   ]
  },
  {
   "cell_type": "code",
   "execution_count": 11,
   "id": "parallel-mumbai",
   "metadata": {
    "ExecuteTime": {
     "end_time": "2021-05-09T15:51:54.343450Z",
     "start_time": "2021-05-09T15:51:54.338395Z"
    }
   },
   "outputs": [
    {
     "data": {
      "text/plain": [
       "Index(['g0', 'g1', 'g2', 'g3', 'g4', 'g5', 'g6', 'g7', 'g8', 'g9',\n",
       "       ...\n",
       "       'c90', 'c91', 'c92', 'c93', 'c94', 'c95', 'c96', 'c97', 'c98', 'c99'],\n",
       "      dtype='object', length=872)"
      ]
     },
     "execution_count": 11,
     "metadata": {},
     "output_type": "execute_result"
    }
   ],
   "source": [
    "df.columns[5:]"
   ]
  },
  {
   "cell_type": "code",
   "execution_count": 12,
   "id": "bright-springer",
   "metadata": {
    "ExecuteTime": {
     "end_time": "2021-05-09T15:51:54.924851Z",
     "start_time": "2021-05-09T15:51:54.916322Z"
    }
   },
   "outputs": [
    {
     "data": {
      "text/plain": [
       "Index(['id', 'tratamento', 'tempo', 'dose', 'composto', 'g0', 'g1', 'g2', 'g3',\n",
       "       'g4',\n",
       "       ...\n",
       "       'c90', 'c91', 'c92', 'c93', 'c94', 'c95', 'c96', 'c97', 'c98', 'c99'],\n",
       "      dtype='object', length=877)"
      ]
     },
     "execution_count": 12,
     "metadata": {},
     "output_type": "execute_result"
    }
   ],
   "source": [
    "df_new = {'droga': 'composto'}\n",
    "df.rename(columns=df_new, inplace = True)\n",
    "df.columns"
   ]
  },
  {
   "cell_type": "markdown",
   "id": "biological-match",
   "metadata": {
    "ExecuteTime": {
     "end_time": "2021-05-07T22:03:25.061819Z",
     "start_time": "2021-05-07T22:03:25.053732Z"
    }
   },
   "source": [
    "# Plot com seaborn"
   ]
  },
  {
   "cell_type": "code",
   "execution_count": null,
   "id": "compatible-producer",
   "metadata": {
    "ExecuteTime": {
     "end_time": "2021-05-07T22:45:41.413268Z",
     "start_time": "2021-05-07T22:45:41.100178Z"
    }
   },
   "outputs": [],
   "source": [
    "composto_index = df['composto'].value_counts()[0:5].index\n",
    "#o arroba seleciona o composto_index\n",
    "compostos = df.query('composto in @composto_index')\n",
    "\n",
    "sns.set(style = 'darkgrid')\n",
    "\n",
    "fig = sns.countplot( x = 'composto', data = compostos,\n",
    "              order = compostos['composto'].value_counts().index);\n",
    "\n",
    "#order = desafio 9\n",
    "fig.set(xlabel = 'Nome dos Compostos', ylabel = 'Contagem') #desafio 10"
   ]
  },
  {
   "cell_type": "code",
   "execution_count": null,
   "id": "electronic-drink",
   "metadata": {
    "ExecuteTime": {
     "end_time": "2021-05-07T22:53:46.840314Z",
     "start_time": "2021-05-07T22:53:46.382309Z"
    }
   },
   "outputs": [],
   "source": [
    "fig = plt.figure()\n",
    "\n",
    "plt.subplot(2, 2, 1)\n",
    "df['g1'].hist(bins = 50);\n",
    "\n",
    "plt.subplot(2, 2, 2)\n",
    "df['g19'].hist(bins = 50);\n"
   ]
  },
  {
   "cell_type": "code",
   "execution_count": null,
   "id": "existing-december",
   "metadata": {
    "ExecuteTime": {
     "end_time": "2021-05-07T22:58:09.132070Z",
     "start_time": "2021-05-07T22:58:06.412091Z"
    }
   },
   "outputs": [],
   "source": [
    "df.loc[:, 'g0':'g771'].describe().T['mean'].hist(bins=30);"
   ]
  },
  {
   "cell_type": "code",
   "execution_count": null,
   "id": "marine-cemetery",
   "metadata": {
    "ExecuteTime": {
     "end_time": "2021-05-07T23:01:43.228966Z",
     "start_time": "2021-05-07T23:01:37.188825Z"
    }
   },
   "outputs": [],
   "source": [
    "df.loc[:, 'g0':'g771'].describe().T['min'].hist(bins = 30);"
   ]
  },
  {
   "cell_type": "code",
   "execution_count": null,
   "id": "level-translator",
   "metadata": {
    "ExecuteTime": {
     "end_time": "2021-05-07T23:02:02.986801Z",
     "start_time": "2021-05-07T23:01:56.236028Z"
    }
   },
   "outputs": [],
   "source": [
    "df.loc[:, 'g0':'g771'].describe().T['max'].hist(bins = 30)"
   ]
  },
  {
   "cell_type": "code",
   "execution_count": null,
   "id": "collected-tunnel",
   "metadata": {
    "ExecuteTime": {
     "end_time": "2021-05-07T23:06:45.175023Z",
     "start_time": "2021-05-07T23:06:34.155947Z"
    }
   },
   "outputs": [],
   "source": [
    "fig2 = plt.figure()\n",
    "\n",
    "plt.subplot(2, 2, 1)\n",
    "df.loc[:, 'g0':'g771'].describe().T['mean'].hist(bins=30);\n",
    "\n",
    "plt.subplot(2, 2, 2)\n",
    "df.loc[:, 'g0':'g771'].describe().T['min'].hist(bins = 30);\n",
    "\n",
    "plt.subplot(2,2,3)\n",
    "df.loc[:, 'g0':'g771'].describe().T['max'].hist(bins = 30);\n",
    "\n",
    "plt.subplot(2,2,4)\n",
    "df.loc[:, 'g0':'g771'].describe().T['std'].hist(bins = 30);"
   ]
  },
  {
   "cell_type": "markdown",
   "id": "velvet-lightweight",
   "metadata": {},
   "source": [
    "## Boxplot"
   ]
  },
  {
   "cell_type": "code",
   "execution_count": null,
   "id": "stupid-treaty",
   "metadata": {
    "ExecuteTime": {
     "end_time": "2021-05-07T23:10:23.310563Z",
     "start_time": "2021-05-07T23:10:23.058701Z"
    }
   },
   "outputs": [],
   "source": [
    "plt.figure (figsize = (8,6))\n",
    "sns.boxplot(y = 'g0', x ='tratamento', data = df);"
   ]
  },
  {
   "cell_type": "code",
   "execution_count": null,
   "id": "defined-producer",
   "metadata": {},
   "outputs": [],
   "source": [
    "# O que foi aprendido com os dados?"
   ]
  },
  {
   "cell_type": "markdown",
   "id": "bacterial-south",
   "metadata": {},
   "source": [
    "# Aula 4"
   ]
  },
  {
   "cell_type": "markdown",
   "id": "turned-photographer",
   "metadata": {
    "ExecuteTime": {
     "end_time": "2021-05-09T14:06:14.358939Z",
     "start_time": "2021-05-09T14:06:14.349491Z"
    }
   },
   "source": [
    "## Tabela de Frequencia"
   ]
  },
  {
   "cell_type": "code",
   "execution_count": null,
   "id": "loved-philippines",
   "metadata": {
    "ExecuteTime": {
     "end_time": "2021-05-09T14:06:50.233312Z",
     "start_time": "2021-05-09T14:06:49.987317Z"
    }
   },
   "outputs": [],
   "source": [
    "pd.crosstab(df['dose'],df['tempo'])"
   ]
  },
  {
   "cell_type": "code",
   "execution_count": null,
   "id": "under-steps",
   "metadata": {
    "ExecuteTime": {
     "end_time": "2021-05-09T15:39:14.735442Z",
     "start_time": "2021-05-09T15:39:14.650234Z"
    }
   },
   "outputs": [],
   "source": [
    "pd.crosstab([df['dose'],df['tempo']], df['tratamento'])\n",
    "\n",
    "#as colunas serão os tratamentos\n",
    "#normalize com True = Pela soma total\n",
    "#Normalize com Index = cada linha é 100"
   ]
  },
  {
   "cell_type": "code",
   "execution_count": null,
   "id": "tested-cleveland",
   "metadata": {
    "ExecuteTime": {
     "end_time": "2021-05-09T14:30:33.952831Z",
     "start_time": "2021-05-09T14:30:33.872243Z"
    }
   },
   "outputs": [],
   "source": [
    "# Ajustando por agrupamento de um gene só pela média \n",
    "\n",
    "pd.crosstab([df['dose'],df['tempo']], df['tratamento'], values = df['g0'], aggfunc = 'mean')\n"
   ]
  },
  {
   "cell_type": "code",
   "execution_count": null,
   "id": "crude-walter",
   "metadata": {
    "ExecuteTime": {
     "end_time": "2021-05-09T14:26:13.451496Z",
     "start_time": "2021-05-09T14:26:13.411318Z"
    }
   },
   "outputs": [],
   "source": [
    "desafio = df[['dose', 'tempo', 'tratamento']].groupby(['tratamento', 'tempo']).count().reset_index()"
   ]
  },
  {
   "cell_type": "code",
   "execution_count": null,
   "id": "urban-naples",
   "metadata": {
    "ExecuteTime": {
     "end_time": "2021-05-09T14:24:26.516716Z",
     "start_time": "2021-05-09T14:24:26.495273Z"
    }
   },
   "outputs": [],
   "source": [
    "desafio"
   ]
  },
  {
   "cell_type": "markdown",
   "id": "frequent-flashing",
   "metadata": {},
   "source": [
    "## Comparação entre colunas"
   ]
  },
  {
   "cell_type": "code",
   "execution_count": null,
   "id": "shaped-optimization",
   "metadata": {
    "ExecuteTime": {
     "end_time": "2021-05-09T14:35:48.049429Z",
     "start_time": "2021-05-09T14:35:48.031033Z"
    }
   },
   "outputs": [],
   "source": [
    "df[['g0', 'g3']]"
   ]
  },
  {
   "cell_type": "code",
   "execution_count": 20,
   "id": "intensive-voltage",
   "metadata": {
    "ExecuteTime": {
     "end_time": "2021-05-09T15:56:32.251456Z",
     "start_time": "2021-05-09T15:56:32.045445Z"
    }
   },
   "outputs": [
    {
     "data": {
      "text/plain": [
       "<AxesSubplot:xlabel='g0', ylabel='g3'>"
      ]
     },
     "execution_count": 20,
     "metadata": {},
     "output_type": "execute_result"
    },
    {
     "data": {
      "image/png": "[encoded data removed]",
      "text/plain": [
       "<Figure size 432x288 with 1 Axes>"
      ]
     },
     "metadata": {
      "needs_background": "light"
     },
     "output_type": "display_data"
    }
   ],
   "source": [
    "sns.scatterplot(x = 'g0', y='g3', data = df)"
   ]
  },
  {
   "cell_type": "code",
   "execution_count": null,
   "id": "tribal-blink",
   "metadata": {
    "ExecuteTime": {
     "end_time": "2021-05-09T15:39:27.921580Z",
     "start_time": "2021-05-09T15:39:25.686745Z"
    }
   },
   "outputs": [],
   "source": [
    "sns.lmplot(data=df, x='g0', y = 'g3', line_kws = {'color': 'red'})"
   ]
  },
  {
   "cell_type": "code",
   "execution_count": null,
   "id": "visible-concentrate",
   "metadata": {
    "ExecuteTime": {
     "end_time": "2021-05-09T14:40:17.331915Z",
     "start_time": "2021-05-09T14:40:15.234721Z"
    }
   },
   "outputs": [],
   "source": [
    "sns.lmplot(data=df, x='g0', y = 'g8', line_kws = {'color': 'red'})"
   ]
  },
  {
   "cell_type": "code",
   "execution_count": null,
   "id": "lesbian-penguin",
   "metadata": {
    "ExecuteTime": {
     "end_time": "2021-05-09T15:10:56.267405Z",
     "start_time": "2021-05-09T15:10:52.835978Z"
    }
   },
   "outputs": [],
   "source": [
    "sns.lmplot(data=df, x='g0', y = 'g3', line_kws = {'color': 'red'}, col = 'tratamento',row = 'tempo')\n",
    "#adicionando colunas de separação"
   ]
  },
  {
   "cell_type": "code",
   "execution_count": 28,
   "id": "recreational-potential",
   "metadata": {
    "ExecuteTime": {
     "end_time": "2021-05-09T16:04:11.981600Z",
     "start_time": "2021-05-09T16:04:11.457270Z"
    }
   },
   "outputs": [
    {
     "data": {
      "image/png": "[encoded data removed]",
      "text/plain": [
       "<Figure size 432x288 with 2 Axes>"
      ]
     },
     "metadata": {
      "needs_background": "light"
     },
     "output_type": "display_data"
    }
   ],
   "source": [
    "# Gráfico de correlação \n",
    "\n",
    "correlation = df.loc[:, 'g0':'g30'].corr()\n",
    "matrix = np.triu(correlation.corr())\n",
    "\n",
    "sns.heatmap(correlation.corr(), cmap = 'OrRd', square = True, annot = False, center = 0,\n",
    "             mask = matrix, linewidths = .5);"
   ]
  },
  {
   "cell_type": "code",
   "execution_count": 26,
   "id": "english-origin",
   "metadata": {
    "ExecuteTime": {
     "end_time": "2021-05-09T16:03:55.011335Z",
     "start_time": "2021-05-09T16:03:54.436081Z"
    }
   },
   "outputs": [
    {
     "data": {
      "image/png": "[encoded data removed]",
      "text/plain": [
       "<Figure size 432x288 with 2 Axes>"
      ]
     },
     "metadata": {
      "needs_background": "light"
     },
     "output_type": "display_data"
    }
   ],
   "source": [
    "# Gráfico de correlação tipos celulares \n",
    "correlation_celular = df.loc[:, 'c0':'c30'].corr()\n",
    "matrix = np.triu(correlation_celular.corr())\n",
    "\n",
    "sns.heatmap(correlation_celular.corr(), cmap = 'OrRd', square = True, annot = False, center = 0,\n",
    "             mask = matrix, linewidths = .5);"
   ]
  },
  {
   "cell_type": "code",
   "execution_count": null,
   "id": "covered-utility",
   "metadata": {},
   "outputs": [],
   "source": []
  }
 ],
 "metadata": {
  "hide_input": false,
  "kernelspec": {
   "display_name": "Python 3",
   "language": "python",
   "name": "python3"
  },
  "language_info": {
   "codemirror_mode": {
    "name": "ipython",
    "version": 3
   },
   "file_extension": ".py",
   "mimetype": "text/x-python",
   "name": "python",
   "nbconvert_exporter": "python",
   "pygments_lexer": "ipython3",
   "version": "3.8.0"
  },
  "varInspector": {
   "cols": {
    "lenName": 16,
    "lenType": 16,
    "lenVar": 40
   },
   "kernels_config": {
    "python": {
     "delete_cmd_postfix": "",
     "delete_cmd_prefix": "del ",
     "library": "var_list.py",
     "varRefreshCmd": "print(var_dic_list())"
    },
    "r": {
     "delete_cmd_postfix": ") ",
     "delete_cmd_prefix": "rm(",
     "library": "var_list.r",
     "varRefreshCmd": "cat(var_dic_list()) "
    }
   },
   "types_to_exclude": [
    "module",
    "function",
    "builtin_function_or_method",
    "instance",
    "_Feature"
   ],
   "window_display": false
  }
 },
 "nbformat": 4,
 "nbformat_minor": 5
}
